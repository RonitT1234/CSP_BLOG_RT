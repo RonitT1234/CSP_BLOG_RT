{
 "cells": [
  {
   "cell_type": "markdown",
   "metadata": {},
   "source": [
    "---\n",
    "comments: false\n",
    "layout: post\n",
    "title: Pseudo Code Project\n",
    "description: blaah blah blah \n",
    "type: tangibles\n",
    "courses: { compsci: {week: 2} }\n",
    "---"
   ]
  },
  {
   "cell_type": "markdown",
   "metadata": {},
   "source": [
    "# >>>> NOTES <<<<\n",
    "\n",
    "- .ipynb (Interaction Python Notebook)\n",
    "- code cell = box where user can choose language of program, and subsequently create runnable code. (Not interactive on Website)\n",
    "- code fencing = Used to mark the start and end of code block (typically starts and ends with, \"```\")\n",
    "- Psuedo code = simple text language that can be substituted for any real coding language. \n",
    "- Sequenece: A set of steps carried out in a defind order\n",
    "- Iteration: repeats a block of code in certain order throguht the use of a function.(Definite Iteration and Indefinite iteration)\n",
    "- To apply any changes you make inside of .ipynb you must:\n",
    "- Select what type of text you want to add(Markdown, Python, HTML, Javascipt, etc...) Found in bottom right corner of code cell. \n",
    "- (1) Run \"make clean\"\n",
    "- (2) Run \"make\"\n",
    "\n"
   ]
  },
  {
   "cell_type": "markdown",
   "metadata": {},
   "source": [
    "# >>>> CODE FENCING VS CODE CELL <<<<"
   ]
  },
  {
   "cell_type": "markdown",
   "metadata": {},
   "source": [
    "## >>>> CODE FENCING <<<<"
   ]
  },
  {
   "cell_type": "markdown",
   "metadata": {},
   "source": [
    "```\n",
    "print(\"This is an example of using code fencing)\n",
    "\n",
    "My code doesn't need to follow any sytax or rules here!\n",
    " \n",
    "I also can't run the code I put into this cell\n",
    "```"
   ]
  },
  {
   "cell_type": "markdown",
   "metadata": {},
   "source": [
    "## >>>> CODE CELL <<<<"
   ]
  },
  {
   "cell_type": "code",
   "execution_count": 5,
   "metadata": {},
   "outputs": [
    {
     "name": "stdout",
     "output_type": "stream",
     "text": [
      "This is an example of a code cell\n",
      "Here My code must follow the rules of whatever language I choose\n",
      "My code here is runnable!\n"
     ]
    }
   ],
   "source": [
    "print(\"This is an example of a code cell\")\n",
    "print(\"Here My code must follow the rules of whatever language I choose\")\n",
    "fact = \"My code here is runnable!\"\n",
    "print(fact)\n",
    "\n"
   ]
  },
  {
   "cell_type": "markdown",
   "metadata": {},
   "source": [
    "Command Vocabulary | Pseudo code         | Python                 | Purpose\n",
    "Output       | DISPLAY(expression) | print(expression, end=\" \") | Displays the value of expression, followed by a space. Python defaults to newline, thus the end=\" \"\n",
    "Input        | a ← INPUT()         | a = input(prompt)      | Accepts a value from the user and returns it to the variable a.\n",
    "Assignment   |\ta ← expression\t   | a = expression         | Evaluates expression and assigns the result to the variable a.\n",
    "Selection    | IF (expression)     | if expression:         | Run commands in the code block associated with the selection\n",
    "Iteration n times     |\tREPEAT n TIMES      | for i in range(n): | Repeat commands in the code block associated withe the iteration n times\n",
    "Iteration expression  | REPEAT UNTIL (expression) |\twhile expression: |  Repeat commands in the code block associated withe the iteration while expression is true\n",
    "List Assignment | list ← [expression1, expression2, expression3] | list = [expression1, expression2, expression3] | Assigns 3 values to list, value can be literal or expressions\n",
    "First index in List     |\tlist[1] | list[0] | Access the 1st element in the list[].  FYI, most programming languages start a zero.\n",
    "Last index in List    | list[LENGTH(list)] | list[len(list) - 1] | Access the last element in the list[].  If you start at zero, last element is length - 1.\n",
    "Define Procedure      | PROCEDURE name (parameter) | def name(parameter): |  Create a procedure containing a sequence of programming instructions.\n",
    "Expression equals     |\ta = b\t| a == b  | Evaluate if assigned value of a equals assigned value of b\n",
    "Expression not equals |\ta ≠ b\t| a != b  | Evaluate if assigned value of a is NOT equal to assigned value of b"
   ]
  },
  {
   "cell_type": "markdown",
   "metadata": {},
   "source": [
    "# >>>> PSUEDO VS PYTHON VS JAVASCRIPT <<<<"
   ]
  },
  {
   "cell_type": "markdown",
   "metadata": {},
   "source": [
    "## >>>> Psuedo <<<<"
   ]
  },
  {
   "cell_type": "markdown",
   "metadata": {},
   "source": [
    "```\n",
    "DISPLAY(\"Psuedo Code Example\")\n",
    "\n",
    "n ← INPUT(\"How many times should this code run?\")\n",
    "\n",
    "total ← 0\n",
    "sum ← 0\n",
    "REPEAT n TIMES\n",
    "{\n",
    "    DISPLAY(\"This is run, # \"+n)\n",
    "    total +1\n",
    "    sum ← sum + n\n",
    "}\n",
    "\n",
    "DISPLAY(\"In toal this code has been run \"+total+ \" times and the sum of the numbers is: \"+sum)\n",
    "\n",
    "\n",
    "IF (sum > 100) {\n",
    "   DISPLAY(\"Your sum of nubmers was greater than 100!\")\n",
    "}\n",
    "ELSE  {\n",
    "   DISPLAY(\"Your sum of nubmers was not greater than 100!\")\n",
    "}\n",
    "```"
   ]
  },
  {
   "cell_type": "markdown",
   "metadata": {},
   "source": [
    "## >>>> Python <<<<"
   ]
  },
  {
   "cell_type": "code",
   "execution_count": 50,
   "metadata": {},
   "outputs": [
    {
     "name": "stdout",
     "output_type": "stream",
     "text": [
      "Python Example\n",
      "This is run, # 0\n",
      "This is run, # 1\n",
      "This is run, # 2\n",
      "This is run, # 3\n",
      "This is run, # 4\n",
      "This is run, # 5\n",
      "In toal this code has been run 6 times and the sum of the numbers is: 15\n",
      "Your sum of numbers is not past 100\n"
     ]
    }
   ],
   "source": [
    "print(\"Python Example\")\n",
    "n = int(input(\"How many times should this code run?\"))\n",
    "\n",
    "total = 0\n",
    "sum=0\n",
    "for i in range(n):\n",
    "    print(\"This is run, # \"+str(i))\n",
    "    total+=1\n",
    "    sum=sum+i\n",
    "print(\"In toal this code has been run \"+str(total)+ \" times and the sum of the numbers is: \"+str(sum))\n",
    "\n",
    "\n",
    "if (sum>100):\n",
    "    print(\"Your sum of numbers was greated than 100\")\n",
    "else: \n",
    "    print(\"Your sum of numbers is not past 100\")"
   ]
  },
  {
   "cell_type": "markdown",
   "metadata": {},
   "source": [
    "## >>>> Javascript <<<<"
   ]
  },
  {
   "cell_type": "code",
   "execution_count": 48,
   "metadata": {
    "vscode": {
     "languageId": "javascript"
    }
   },
   "outputs": [
    {
     "ename": "SyntaxError",
     "evalue": "invalid syntax (141280344.py, line 1)",
     "output_type": "error",
     "traceback": [
      "\u001b[0;36m  File \u001b[0;32m\"/tmp/ipykernel_243079/141280344.py\"\u001b[0;36m, line \u001b[0;32m1\u001b[0m\n\u001b[0;31m    // JAVASCRIPT EXAMPLE HERE\u001b[0m\n\u001b[0m    ^\u001b[0m\n\u001b[0;31mSyntaxError\u001b[0m\u001b[0;31m:\u001b[0m invalid syntax\n"
     ]
    }
   ],
   "source": [
    "// JAVASCRIPT EXAMPLE HERE\n",
    "%%js%%"
   ]
  },
  {
   "cell_type": "markdown",
   "metadata": {},
   "source": [
    "# >>>> Final Thoughts <<<<\n",
    "\n",
    "As of the current moment, Python is the fastest code to use, Pseudo is the easiest to understand, and Javascript is the hardest to work on. Need to figure out how to create a for loop in Javascript."
   ]
  }
 ],
 "metadata": {
  "kernelspec": {
   "display_name": "Python 3",
   "language": "python",
   "name": "python3"
  },
  "language_info": {
   "codemirror_mode": {
    "name": "ipython",
    "version": 3
   },
   "file_extension": ".py",
   "mimetype": "text/x-python",
   "name": "python",
   "nbconvert_exporter": "python",
   "pygments_lexer": "ipython3",
   "version": "3.10.12"
  },
  "orig_nbformat": 4
 },
 "nbformat": 4,
 "nbformat_minor": 2
}
