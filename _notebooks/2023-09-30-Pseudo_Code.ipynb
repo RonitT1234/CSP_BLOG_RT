{
 "cells": [
  {
   "cell_type": "markdown",
   "metadata": {},
   "source": [
    "---\n",
    "comments: false\n",
    "layout: post\n",
    "title: Pseudo Code Project\n",
    "description: blaah blah blah \n",
    "type: tangibles\n",
    "courses: { compsci: {week: 2} }\n",
    "---"
   ]
  },
  {
   "cell_type": "markdown",
   "metadata": {},
   "source": [
    "# >>>> NOTES <<<<\n",
    "\n",
    "- .ipynb (Interaction Python Notebook)\n",
    "- code cell = box where user can choose language of program, and subsequently create runnable code. (Not interactive on Website)\n",
    "- code fencing = Used to mark the start and end of code block (typically starts and ends with, \"```\")\n",
    "- To apply any changes you make inside of .ipynb you must:\n",
    "- Select what type of text you want to add(Markdown, Python, HTML, Javascipt, etc...) Found in bottom right corner of code cell. \n",
    "- (1) Run \"make clean\"\n",
    "- (2) Run \"make\"\n",
    "\n"
   ]
  },
  {
   "cell_type": "markdown",
   "metadata": {},
   "source": [
    "# >>>> CODE FENCING <<<<"
   ]
  },
  {
   "cell_type": "markdown",
   "metadata": {},
   "source": [
    "```\n",
    "print(\"This is an example of using code fencing)\n",
    "\n",
    "My code doesn't need to follow any sytax or rules here!\n",
    " \n",
    "I also can't run the code I put into this cell\n",
    "```"
   ]
  },
  {
   "cell_type": "markdown",
   "metadata": {},
   "source": [
    "# >>>> CODE CELL <<<<"
   ]
  },
  {
   "cell_type": "code",
   "execution_count": 5,
   "metadata": {},
   "outputs": [
    {
     "name": "stdout",
     "output_type": "stream",
     "text": [
      "This is an example of a code cell\n",
      "Here My code must follow the rules of whatever language I choose\n",
      "My code here is runnable!\n"
     ]
    }
   ],
   "source": [
    "print(\"This is an example of a code cell\")\n",
    "print(\"Here My code must follow the rules of whatever language I choose\")\n",
    "fact = \"My code here is runnable!\"\n",
    "print(fact)\n",
    "\n"
   ]
  },
  {
   "cell_type": "markdown",
   "metadata": {},
   "source": [
    "Command Vocabulary | Pseudo code         | Python                 | Purpose\n",
    "Output       | DISPLAY(expression) | print(expression, end=\" \") | Displays the value of expression, followed by a space. Python defaults to newline, thus the end=\" \"\n",
    "Input        | a ← INPUT()         | a = input(prompt)      | Accepts a value from the user and returns it to the variable a.\n",
    "Assignment   |\ta ← expression\t   | a = expression         | Evaluates expression and assigns the result to the variable a.\n",
    "Selection    | IF (expression)     | if expression:         | Run commands in the code block associated with the selection\n",
    "Iteration n times     |\tREPEAT n TIMES      | for i in range(n): | Repeat commands in the code block associated withe the iteration n times\n",
    "Iteration expression  | REPEAT UNTIL (expression) |\twhile expression: |  Repeat commands in the code block associated withe the iteration while expression is true\n",
    "List Assignment | list ← [expression1, expression2, expression3] | list = [expression1, expression2, expression3] | Assigns 3 values to list, value can be literal or expressions\n",
    "First index in List     |\tlist[1] | list[0] | Access the 1st element in the list[].  FYI, most programming languages start a zero.\n",
    "Last index in List    | list[LENGTH(list)] | list[len(list) - 1] | Access the last element in the list[].  If you start at zero, last element is length - 1.\n",
    "Define Procedure      | PROCEDURE name (parameter) | def name(parameter): |  Create a procedure containing a sequence of programming instructions.\n",
    "Expression equals     |\ta = b\t| a == b  | Evaluate if assigned value of a equals assigned value of b\n",
    "Expression not equals |\ta ≠ b\t| a != b  | Evaluate if assigned value of a is NOT equal to assigned value of b"
   ]
  },
  {
   "cell_type": "code",
   "execution_count": 2,
   "metadata": {},
   "outputs": [
    {
     "name": "stdout",
     "output_type": "stream",
     "text": [
      "testing\n"
     ]
    }
   ],
   "source": [
    "print(\"testing\")"
   ]
  }
 ],
 "metadata": {
  "kernelspec": {
   "display_name": "Python 3",
   "language": "python",
   "name": "python3"
  },
  "language_info": {
   "codemirror_mode": {
    "name": "ipython",
    "version": 3
   },
   "file_extension": ".py",
   "mimetype": "text/x-python",
   "name": "python",
   "nbconvert_exporter": "python",
   "pygments_lexer": "ipython3",
   "version": "3.10.12"
  },
  "orig_nbformat": 4
 },
 "nbformat": 4,
 "nbformat_minor": 2
}
