{
 "cells": [
  {
   "cell_type": "markdown",
   "metadata": {},
   "source": [
    "---\n",
    "comments: false\n",
    "layout: post\n",
    "title: Test Quiz Game\n",
    "description: Do you Really know Batman \n",
    "type: hacks\n",
    "courses: { compsci: {week: 2} }\n",
    "---"
   ]
  },
  {
   "cell_type": "code",
   "execution_count": 31,
   "metadata": {},
   "outputs": [
    {
     "name": "stdout",
     "output_type": "stream",
     "text": [
      "Bat-tasticRonit \n",
      "Sorry Vance, You're not looking like Batman\n",
      "Bat-tasticRonit \n",
      "Sorry Vance, You're not looking like Batman\n",
      "Bat-tasticRonit \n",
      "Sorry Vance, You're not looking like Batman\n",
      "3\n",
      "0\n",
      "Ronit is BATMAN and Vanceis Alfred....\n",
      "Ronit  and Vance are BatMEN\n"
     ]
    }
   ],
   "source": [
    "\n",
    "\n",
    "playerone_score=0\n",
    "playertwo_score=0\n",
    "\n",
    "\n",
    "\n",
    "player_one=input(\"What is your name Player 1?\")\n",
    "player_two=input(\"What is your name Player 2?\")\n",
    "\n",
    "def question(question, answer):\n",
    "\n",
    "    global playerone_score\n",
    "    global playertwo_score\n",
    "    \n",
    "    response = input(player_one + \",\" + question)\n",
    "    if response == answer:\n",
    "        print(\"Bat-tastic \" + player_one)\n",
    "        playerone_score+=1\n",
    "    else:\n",
    "        print(\"Sorry \" + player_one + \", You're not looking like Batman\")\n",
    "            \n",
    "            \n",
    "    response = input(player_two + \",\" + question)\n",
    "    if response == answer:\n",
    "        print(\"Bat-tastic\" + player_two)\n",
    "        playertwo_score+=1\n",
    "\n",
    "    else:\n",
    "        print(\"Sorry \" + player_two + \", You're not looking like Batman\")\n",
    "\n",
    "\n",
    "\n",
    "question(\"What is Batman's real name\", \"Bruce Wayne\")\n",
    "question(\"What city does batman live in?\", \"Gotham\")\n",
    "question(\"What city does batman live in?\", \"Gotham\")\n",
    "\n",
    "\n",
    "print(playerone_score)\n",
    "print(playertwo_score)\n",
    "\n",
    "if playerone_score > playertwo_score:\n",
    "    print(player_one + \"is BATMAN and \" + player_two +\" is Alfred....\")\n",
    "if playerone_score < playertwo_score:\n",
    "    print(player_two + \"is BATMAN and \" + player_one +\"is Alfred....\")\n",
    "else: \n",
    "    print(player_one + \" and \" + player_two + \" are BatMEN\")\n",
    "    \n",
    "\n",
    "\n",
    "\n",
    "        "
   ]
  }
 ],
 "metadata": {
  "kernelspec": {
   "display_name": "Python 3",
   "language": "python",
   "name": "python3"
  },
  "language_info": {
   "codemirror_mode": {
    "name": "ipython",
    "version": 3
   },
   "file_extension": ".py",
   "mimetype": "text/x-python",
   "name": "python",
   "nbconvert_exporter": "python",
   "pygments_lexer": "ipython3",
   "version": "3.10.12"
  },
  "orig_nbformat": 4
 },
 "nbformat": 4,
 "nbformat_minor": 2
}
