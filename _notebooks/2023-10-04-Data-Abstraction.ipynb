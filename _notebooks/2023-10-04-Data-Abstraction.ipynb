{
 "cells": [
  {
   "cell_type": "markdown",
   "metadata": {},
   "source": [
    "---\n",
    "comments: true\n",
    "layout: post\n",
    "title: Data Abstraction Talk \n",
    "description: Popcorn Hacks + Homework\n",
    "type: hacks\n",
    "courses: { compsci: {week: 6} }\n",
    "---"
   ]
  },
  {
   "cell_type": "code",
   "execution_count": 3,
   "metadata": {},
   "outputs": [
    {
     "name": "stdout",
     "output_type": "stream",
     "text": [
      "Ronit Thomas\n",
      "10\n"
     ]
    }
   ],
   "source": [
    "#Popcorn Hack 1\n",
    "\n",
    "name = \"Ronit Thomas\"\n",
    "print(name)\n",
    "\n",
    "toes = 10\n",
    "print(toes)"
   ]
  },
  {
   "cell_type": "code",
   "execution_count": 2,
   "metadata": {},
   "outputs": [
    {
     "name": "stdout",
     "output_type": "stream",
     "text": [
      "Batman\n",
      "15\n",
      "False\n"
     ]
    }
   ],
   "source": [
    "#Popcorn Hack 2\n",
    "\n",
    "superhero = \"Batman\"\n",
    "print(superhero)\n",
    "\n",
    "number_of_villans=15\n",
    "print(number_of_villans)\n",
    "\n",
    "number_of_cars=4\n",
    "print(number_of_cars<3)"
   ]
  },
  {
   "cell_type": "code",
   "execution_count": 12,
   "metadata": {},
   "outputs": [
    {
     "name": "stdout",
     "output_type": "stream",
     "text": [
      "30 45 76\n",
      "changing all numbers to the same number: \n",
      "45 45 45\n",
      "all numbers are now the same.\n"
     ]
    }
   ],
   "source": [
    "# Popcorn Hack 3 \n",
    "\n",
    "num1 = 30 \n",
    "num2 = 45\n",
    "num3 = 76\n",
    "\n",
    "print(str(num1)+\" \"+str(num2)+\" \"+str(num3))\n",
    "print(\"changing all numbers to the same number: \")\n",
    "\n",
    "num1=num2\n",
    "num2=num2\n",
    "num3=num2\n",
    "\n",
    "print(str(num1)+\" \"+str(num2)+\" \"+str(num3))\n",
    "print(\"all numbers are now the same.\")\n",
    "\n"
   ]
  },
  {
   "cell_type": "code",
   "execution_count": 20,
   "metadata": {},
   "outputs": [
    {
     "name": "stdout",
     "output_type": "stream",
     "text": [
      "The second elemen(third) is:\n",
      "True\n",
      "The fourth elemen(fifth) is:\n",
      "18.3\n"
     ]
    }
   ],
   "source": [
    "# Popcorn Hack 4 \n",
    "\n",
    "information = \"feSECRETgrogiegifshdfsfdhskb\"\n",
    "\n",
    "list=[\"Batman\", \"Superman\", True, 12.4, 18.3, [1,2,3,4]]\n",
    "\n",
    "print(\"The second element(third) is:\")\n",
    "print(list[2])\n",
    "\n",
    "print(\"The fourth element(fifth) is:\")\n",
    "print(list[4])\n"
   ]
  },
  {
   "cell_type": "code",
   "execution_count": 1,
   "metadata": {},
   "outputs": [
    {
     "name": "stdout",
     "output_type": "stream",
     "text": [
      "{'Name: ': 'Ronit', 'Age: ': 16}\n",
      "[\"Batman\", \"Batman Mobile\", \"Batman Copter\", \"Batman Boat\"]\n"
     ]
    }
   ],
   "source": [
    "# Popcorn Hack 5\n",
    "\n",
    "dictionary = {\n",
    "    \"Name: \": \"Ronit\",\n",
    "    \"Age: \":16\n",
    "}\n",
    "\n",
    "print(dictionary)\n",
    "\n",
    "\n",
    "import json\n",
    "list = [\"Batman\", \"Batman Mobile\", \"Batman Copter\", \"Batman Boat\"]\n",
    "json_obj = json.dumps(list)\n",
    "print(json_obj)"
   ]
  },
  {
   "cell_type": "markdown",
   "metadata": {},
   "source": [
    "# Data Abstraction Homework\n",
    "\n",
    "## Create a class called Person with the attributes name and age. Then create a function called print_people that takes in a list of people and prints out their names and ages."
   ]
  },
  {
   "cell_type": "code",
   "execution_count": 37,
   "metadata": {},
   "outputs": [
    {
     "name": "stdout",
     "output_type": "stream",
     "text": [
      "Ronit is 16 years old\n",
      "Vance is 15 years old\n",
      "Lincoln is 15 years old\n",
      "Jared is 16 years old\n"
     ]
    }
   ],
   "source": [
    "\n",
    "\n",
    "def __init__(self, name, age):\n",
    "    self.name = name\n",
    "    self.age = age\n",
    "\n",
    "def print_people(people):\n",
    "    for person in people:\n",
    "        print(person.name + \" is \" + str(person.age) + \" years old\") \n",
    "\n",
    "person1 = Person(\"Ronit\", 16)\n",
    "#~~~~~~~~~~~~~~~~~~~~~~~~~~~~~~~~~~~~~~~~~~~~~~~\n",
    "num = int(input(\"Enter how many people you want to add: \"))\n",
    "\n",
    "for i in range(num):\n",
    "    name = input(\"Enter name: \")\n",
    "    age = int(input(\"Enter Age: \"))\n",
    "    dude=Person(name, age)\n",
    "    people.append(dude)\n",
    "\n",
    "#~~~~~~~~~~~~~~~~~~~~~~~~~~~~~~~~~~~~~~~~~~~~~~~\n",
    "print_people(people)"
   ]
  },
  {
   "cell_type": "markdown",
   "metadata": {},
   "source": [
    "## Create a function that takes in a dictionary of people and their ages and prints out the name of the oldest person."
   ]
  },
  {
   "cell_type": "code",
   "execution_count": 49,
   "metadata": {},
   "outputs": [
    {
     "name": "stdout",
     "output_type": "stream",
     "text": [
      "The oldest person is: Bronny with the age of: 43\n"
     ]
    }
   ],
   "source": [
    "def oldest(dudes):\n",
    "    oldest_name = \"\"\n",
    "    oldest_age = 0\n",
    "    \n",
    "    for name, age in dudes.items():\n",
    "        if age > oldest_age:\n",
    "            oldest_name = name\n",
    "            oldest_age = age\n",
    "            \n",
    "    print(\"The oldest person is: \" + oldest_name + \" with the age of: \" + str(oldest_age))\n",
    "\n",
    "dudes = {\n",
    "    \"Ronit\": 16,\n",
    "    \"Lincoln\": 15,\n",
    "    \"Vance\": 18,\n",
    "    \"Bronny\": 43\n",
    "}\n",
    "\n",
    "oldest(dudes)"
   ]
  }
 ],
 "metadata": {
  "kernelspec": {
   "display_name": "Python 3",
   "language": "python",
   "name": "python3"
  },
  "language_info": {
   "codemirror_mode": {
    "name": "ipython",
    "version": 3
   },
   "file_extension": ".py",
   "mimetype": "text/x-python",
   "name": "python",
   "nbconvert_exporter": "python",
   "pygments_lexer": "ipython3",
   "version": "3.10.12"
  },
  "orig_nbformat": 4
 },
 "nbformat": 4,
 "nbformat_minor": 2
}
