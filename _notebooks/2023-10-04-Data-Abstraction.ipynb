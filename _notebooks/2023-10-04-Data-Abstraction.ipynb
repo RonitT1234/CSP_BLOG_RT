{
 "cells": [
  {
   "cell_type": "markdown",
   "metadata": {},
   "source": [
    "---\n",
    "comments: true\n",
    "layout: post\n",
    "title: DATA ABSTRACTION POPCORN HACKS + HOMEWORK\n",
    "description: Homework\n",
    "type: hacks\n",
    "courses: { compsci: {week: 6} }\n",
    "---"
   ]
  },
  {
   "cell_type": "code",
   "execution_count": 2,
   "metadata": {},
   "outputs": [
    {
     "name": "stdout",
     "output_type": "stream",
     "text": [
      "Ronit Thomas\n",
      "10\n"
     ]
    }
   ],
   "source": [
    "#Popcorn Hack 1\n",
    "\n",
    "name = \"Ronit Thomas\"\n",
    "print(name)\n",
    "\n",
    "toes = 10\n",
    "print(toes)\n",
    "\n"
   ]
  },
  {
   "cell_type": "code",
   "execution_count": 5,
   "metadata": {},
   "outputs": [
    {
     "name": "stdout",
     "output_type": "stream",
     "text": [
      "Batman\n",
      "15\n",
      "False\n"
     ]
    }
   ],
   "source": [
    "#Popcorn Hack 2\n",
    "\n",
    "superhero = \"Batman\"\n",
    "print(superhero)\n",
    "\n",
    "number_of_villans=15\n",
    "print(number_of_villans)\n",
    "\n",
    "number_of_cars=4\n",
    "print(number_of_cars<3)"
   ]
  },
  {
   "cell_type": "code",
   "execution_count": 12,
   "metadata": {},
   "outputs": [
    {
     "name": "stdout",
     "output_type": "stream",
     "text": [
      "30 45 76\n",
      "changing all numbers to the same number: \n",
      "45 45 45\n",
      "all numbers are now the same.\n"
     ]
    }
   ],
   "source": [
    "# Popcorn Hack 3 \n",
    "\n",
    "num1 = 30 \n",
    "num2 = 45\n",
    "num3 = 76\n",
    "\n",
    "print(str(num1)+\" \"+str(num2)+\" \"+str(num3))\n",
    "print(\"changing all numbers to the same number: \")\n",
    "\n",
    "num1=num2\n",
    "num2=num2\n",
    "num3=num2\n",
    "\n",
    "print(str(num1)+\" \"+str(num2)+\" \"+str(num3))\n",
    "print(\"all numbers are now the same.\")\n",
    "\n"
   ]
  },
  {
   "cell_type": "code",
   "execution_count": 20,
   "metadata": {},
   "outputs": [
    {
     "name": "stdout",
     "output_type": "stream",
     "text": [
      "The second elemen(third) is:\n",
      "True\n",
      "The fourth elemen(fifth) is:\n",
      "18.3\n"
     ]
    }
   ],
   "source": [
    "# Popcorn Hack 4 \n",
    "\n",
    "information = \"feSECRETgrogiegifshdfsfdhskb\"\n",
    "\n",
    "list=[\"Batman\", \"Superman\", True, 12.4, 18.3, [1,2,3,4]]\n",
    "\n",
    "print(\"The second element(third) is:\")\n",
    "print(list[2])\n",
    "\n",
    "print(\"The fourth element(fifth) is:\")\n",
    "print(list[4])\n"
   ]
  },
  {
   "cell_type": "code",
   "execution_count": 21,
   "metadata": {},
   "outputs": [
    {
     "name": "stdout",
     "output_type": "stream",
     "text": [
      "{'Name: ': 'Ronit', 'Age: ': 16}\n"
     ]
    }
   ],
   "source": [
    "# Popcorn Hack 5\n",
    "\n",
    "dictionary = {\n",
    "    \"Name: \": \"Ronit\",\n",
    "    \"Age: \":16\n",
    "}\n",
    "\n",
    "print(dictionary)"
   ]
  }
 ],
 "metadata": {
  "kernelspec": {
   "display_name": "Python 3",
   "language": "python",
   "name": "python3"
  },
  "language_info": {
   "codemirror_mode": {
    "name": "ipython",
    "version": 3
   },
   "file_extension": ".py",
   "mimetype": "text/x-python",
   "name": "python",
   "nbconvert_exporter": "python",
   "pygments_lexer": "ipython3",
   "version": "3.10.12"
  },
  "orig_nbformat": 4
 },
 "nbformat": 4,
 "nbformat_minor": 2
}
