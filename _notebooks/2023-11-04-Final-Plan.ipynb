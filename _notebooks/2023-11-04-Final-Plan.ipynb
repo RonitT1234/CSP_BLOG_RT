{
 "cells": [
  {
   "cell_type": "markdown",
   "metadata": {},
   "source": [
    "---\n",
    "toc: true\n",
    "comments: false\n",
    "layout: post\n",
    "title: Plan for the rest of Trimester\n",
    "description: Plan\n",
    "courses: { compsci: {week: 8} }\n",
    "type: plans\n",
    "---"
   ]
  },
  {
   "cell_type": "markdown",
   "metadata": {},
   "source": [
    "# Individual"
   ]
  },
  {
   "cell_type": "markdown",
   "metadata": {},
   "source": [
    "Instructions - Final project for individuals.\n",
    "\n",
    "Complete between Oct 25th through Nov 6th.  \n",
    "Review early.  People that received a 1 on analytics check, could go early.   Show progress on student lessons.  Show plans for College Board Quiz and study.  Completed work is not necessary, the ability to  show how you will be complete work is more impressive.\n",
    "Iterative progress.  Showing how you iterate and have plans for completing student blog is valued more than hurried completion in last few days of trimester.\n",
    " \n",
    "\n",
    "Individual Code - Code that you can talk about, that shows your final project contribution.   Show code that you feel qualifies for Teacher requirements and demonstrates your learnings from the project.  It does not need to be done but shows your participation and accomplishment.   Make sure that I know you have prepared your thoughts before sharing!!!\n",
    "\n",
    "Code contribution to project.  JavaScript and/or Python are required.  Any discussions of CSS are not a part of individual scoring.\n",
    "GitHub analytics review.  You should show how GitHub substantiates your work or claims of work during the trimester.   Be prepared to share KEY GitHub commits.  Talk about some of the challenges you faced in development in association with GitHub commits, Review tickets, and analytics.\n",
    "Note.  If for some reason you feature does not make the main portion of program, there should be spot for you to do adjunct activity in team project.  In the recommended NightHawk pages frontend there are many places to put code in project without impacting main/demo page.  Look at alienWorld projectLinks to an external site., as it has examples of blogs/experiments that are independent of index.html.\n",
    "\n",
    "Individual Blog - Code and materials that show your learnings for trimester.  Be sure to update your Time Box and Blogs to represent trimester long work.\n",
    "\n",
    "Code in blog.  Python is primary focus to check for this review, particularly how you have organized Student Lessons to show your learning.\n",
    "Usage of blog.  Teacher should be convinced that you are using your Blog as Study Guide for this course and future trimesters.\n",
    "Pseudo code notes.  As you test in Pseudo code, it is valuable to show your understanding of Pseudo Code, some illustration or examples of Pseudo Code in relation to Python.\n",
    "College Board Quiz notes.   Journal of things you looked up while taking quiz.  Correction for questions you missed.\n",
    "Trimester 1 reflection.   Memories and learnings from trimester 1.   Reflective summary of things you learned, positive accomplishments,    Reflective summary of things you intend to learn in future trimesters, opportunities for growth."
   ]
  },
  {
   "cell_type": "markdown",
   "metadata": {},
   "source": [
    "# Team "
   ]
  },
  {
   "cell_type": "markdown",
   "metadata": {},
   "source": [
    "Prepare an ISSUE for review and Grade yourself in first 10 minutes of class.\n",
    "\n",
    "Dress Rehearsal. Teams score other teams. \n",
    "Each Team provides an ISSUE for scoring their Project and makes a link to it on their N@tM Sign Up page. Make sure you start with a self grading summary.\n",
    "\n",
    "Criteria/Key Features/Technicals: Frontend, APIs, Backend\n",
    "3.6 to 4 pts. HOOK! Key features achieved (shown in running demo to graders), 1 minute show\n",
    "3.6 to 4 pts. KNOWLEGE, HOW IT IS MADE! Key features blogged (shown in demo time to graders), 2 minute show\n",
    "0.6 to 1 pt.  VALUE. Most useful or valuable aspect of project.\n",
    "\n",
    "\n",
    "SELF and CROSS OVER GRADERS PROVIDE TOTAL, 9 of 10 is highest.\n",
    "PROVIDE comment on WOW Factor of presentation.\n",
    "\n",
    "NOTE. Features discussed must be running, and must be proven to be running from GitHub Pages or Deployment to achieve 9 of 10."
   ]
  },
  {
   "cell_type": "markdown",
   "metadata": {},
   "source": [
    "- Qualification week Week of Oct 23\n",
    "    - M - Final Project - Individual (Review on canvas), Review Project Documentation, Student Teaching Point Updates with Teacher\n",
    "    - Tu - Student Teaching “Developing Programs”\n",
    "    - W - Integration Reviews - N@tM qualification opportunity, Introduction to AP Classroom “Finals Day”  exam\n",
    "    - Th - Student Teaching “Libraries”\n",
    "    - F - Work Day, Individual Point Updates with Teacher\n",
    "- N@tM Week of Oct 30\n",
    "    - M - Work Day, Qualification, Individual Reviews 1-2 minute\n",
    "    - Tu - Work Day, Qualification, Individual Reviews 1-2 minute\n",
    "    - W - No School\n",
    "    - Th - Team Live Reviews / Dress Rehearsal, Night at the Museum\n",
    "    - F - Individual Reviews 1-2 minute\n",
    "Finals Week\n",
    "- Finish AP Classroom exam, Make up, Late Work, Corporate Games (edit"
   ]
  },
  {
   "cell_type": "markdown",
   "metadata": {},
   "source": [
    "# To-Do \n",
    "[ ] Passion Project Reflection\n",
    "\n",
    "[ ] Trimester 1 Reflection\n",
    "\n",
    "[ ] Extra Credit Reviews"
   ]
  }
 ],
 "metadata": {
  "kernelspec": {
   "display_name": "Python 3",
   "language": "python",
   "name": "python3"
  },
  "language_info": {
   "codemirror_mode": {
    "name": "ipython",
    "version": 3
   },
   "file_extension": ".py",
   "mimetype": "text/x-python",
   "name": "python",
   "nbconvert_exporter": "python",
   "pygments_lexer": "ipython3",
   "version": "3.10.12"
  }
 },
 "nbformat": 4,
 "nbformat_minor": 2
}
