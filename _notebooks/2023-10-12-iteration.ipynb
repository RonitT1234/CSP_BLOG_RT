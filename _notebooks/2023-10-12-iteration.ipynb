{
 "cells": [
  {
   "cell_type": "code",
   "execution_count": null,
   "metadata": {},
   "outputs": [],
   "source": [
    "#Popcorn Hack 1\n",
    "sample_dict={}\n",
    "\n",
    "x = 5\n",
    "for i in range(x):\n",
    "    y = input(\"Enter something:\"\n",
    "    sample_dict[i] = y\n",
    "    print(y)"
   ]
  },
  {
   "cell_type": "code",
   "execution_count": 5,
   "metadata": {},
   "outputs": [
    {
     "name": "stdout",
     "output_type": "stream",
     "text": [
      "The only numbers that are divislbe by 3 that you entered are:\n",
      "[9, 6, 3]\n"
     ]
    }
   ],
   "source": [
    "#Popcorn Hack 2\n",
    "nums = []\n",
    "\n",
    "x = 5\n",
    "for i in range(5):\n",
    "    user = int(input(\"Enter a number\"))\n",
    "    if user % 3 ==0:\n",
    "        nums.append(user)\n",
    "    else:\n",
    "        break\n",
    "        \n",
    "print(\"The only numbers that are divislbe by 3 that you entered are:\")\n",
    "print(nums)\n",
    "    "
   ]
  },
  {
   "cell_type": "code",
   "execution_count": 7,
   "metadata": {},
   "outputs": [
    {
     "name": "stdout",
     "output_type": "stream",
     "text": [
      "10.0\n",
      "5.0\n",
      "Type error\n",
      "2.5\n",
      "Division by zero\n",
      "Type error\n"
     ]
    }
   ],
   "source": [
    "#Poprocn Hack 3 \n",
    "\n",
    "numbers = [1, 2, \"Bronny AGe 43\", 4, 0, \"five\"]\n",
    "\n",
    "for item in numbers:\n",
    "    try:\n",
    "        print(10 / item)\n",
    "    except ZeroDivisionError:\n",
    "        print(\"Division by zero\")\n",
    "    except TypeError: \n",
    "        print(\"Type error\")"
   ]
  },
  {
   "cell_type": "code",
   "execution_count": null,
   "metadata": {},
   "outputs": [],
   "source": [
    "# HOMEWORK"
   ]
  }
 ],
 "metadata": {
  "kernelspec": {
   "display_name": "Python 3",
   "language": "python",
   "name": "python3"
  },
  "language_info": {
   "codemirror_mode": {
    "name": "ipython",
    "version": 3
   },
   "file_extension": ".py",
   "mimetype": "text/x-python",
   "name": "python",
   "nbconvert_exporter": "python",
   "pygments_lexer": "ipython3",
   "version": "3.10.12"
  }
 },
 "nbformat": 4,
 "nbformat_minor": 2
}
