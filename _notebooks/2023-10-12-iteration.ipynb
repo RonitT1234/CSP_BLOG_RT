{
 "cells": [
  {
   "cell_type": "markdown",
   "metadata": {},
   "source": [
    "---\n",
    "toc: true\n",
    "comments: true\n",
    "layout: post\n",
    "title: Interation Popcorn Hacks + Homework\n",
    "description: Popcorn Hacks + Homework\n",
    "type: hacks\n",
    "courses: { compsci: {week: 7} }\n",
    "---"
   ]
  },
  {
   "cell_type": "code",
   "execution_count": null,
   "metadata": {},
   "outputs": [],
   "source": [
    "#Popcorn Hack 1\n",
    "sample_dict={}\n",
    "\n",
    "x = 5\n",
    "for i in range(x):\n",
    "    y = input(\"Enter something:\"\n",
    "    sample_dict[i] = y\n",
    "    print(y)"
   ]
  },
  {
   "cell_type": "code",
   "execution_count": 5,
   "metadata": {},
   "outputs": [
    {
     "name": "stdout",
     "output_type": "stream",
     "text": [
      "The only numbers that are divislbe by 3 that you entered are:\n",
      "[9, 6, 3]\n"
     ]
    }
   ],
   "source": [
    "#Popcorn Hack 2\n",
    "nums = []\n",
    "\n",
    "x = 5\n",
    "for i in range(5):\n",
    "    user = int(input(\"Enter a number\"))\n",
    "    if user % 3 ==0:\n",
    "        nums.append(user)\n",
    "    else:\n",
    "        break\n",
    "        \n",
    "print(\"The only numbers that are divislbe by 3 that you entered are:\")\n",
    "print(nums)\n",
    "    "
   ]
  },
  {
   "cell_type": "code",
   "execution_count": 7,
   "metadata": {},
   "outputs": [
    {
     "name": "stdout",
     "output_type": "stream",
     "text": [
      "10.0\n",
      "5.0\n",
      "Type error\n",
      "2.5\n",
      "Division by zero\n",
      "Type error\n"
     ]
    }
   ],
   "source": [
    "#Poprocn Hack 3 \n",
    "\n",
    "numbers = [1, 2, \"Bronny AGe 43\", 4, 0, \"five\"]\n",
    "\n",
    "for item in numbers:\n",
    "    try:\n",
    "        print(10 / item)\n",
    "    except ZeroDivisionError:\n",
    "        print(\"Division by zero\")\n",
    "    except TypeError: \n",
    "        print(\"Type error\")"
   ]
  },
  {
   "cell_type": "markdown",
   "metadata": {},
   "source": [
    "# Homework"
   ]
  },
  {
   "cell_type": "code",
   "execution_count": 6,
   "metadata": {},
   "outputs": [
    {
     "name": "stdout",
     "output_type": "stream",
     "text": [
      "\n",
      "Student Data:\n",
      "Vance: 99\n",
      "Ronit: 85\n",
      "Jared: 67\n",
      "\n",
      "Students who passed with the highest score:\n",
      "Vance\n",
      "\n",
      "Students' grades:\n",
      "Vance: A\n",
      "Ronit: B\n",
      "Jared: D\n"
     ]
    }
   ],
   "source": [
    "student_data = {}\n",
    "students_passed = []\n",
    "\n",
    "user = int(input(\"Enter the number of students you would like to add: \"))\n",
    "\n",
    "for _ in range(user):\n",
    "    student_name = input(\"Enter the student's name: \")\n",
    "    while True:\n",
    "        try:\n",
    "            student_score = int(input(\"Enter the student's score: \"))\n",
    "            break\n",
    "        except ValueError:\n",
    "            print(\"Please enter a valid integer for the score.\")\n",
    "\n",
    "    student_data[student_name] = student_score\n",
    "\n",
    "highest_score = max(student_data.values())\n",
    "\n",
    "print(\"\\nStudent Data:\")\n",
    "for student, score in student_data.items():\n",
    "    print(f\"{student}: {score}\")\n",
    "\n",
    "print(\"\\nStudents who passed with the highest score:\")\n",
    "for student, score in student_data.items():\n",
    "    if score == highest_score:\n",
    "        students_passed.append(student)\n",
    "\n",
    "for student in students_passed:\n",
    "    print(student)\n",
    "\n",
    "print(\"\\nStudents' grades:\")\n",
    "grade_mapping = {90: \"A\", 80: \"B\", 70: \"C\", 60: \"D\"}\n",
    "for student, score in student_data.items():\n",
    "    if score >= 90:\n",
    "        grade = \"A\"\n",
    "    elif score >= 80:\n",
    "        grade = \"B\"\n",
    "    elif score >= 70:\n",
    "        grade = \"C\"\n",
    "    elif score >= 60:\n",
    "        grade = \"D\"\n",
    "    else:\n",
    "        grade = \"F\"\n",
    "    print(f\"{student}: {grade}\")\n"
   ]
  }
 ],
 "metadata": {
  "kernelspec": {
   "display_name": "Python 3",
   "language": "python",
   "name": "python3"
  },
  "language_info": {
   "codemirror_mode": {
    "name": "ipython",
    "version": 3
   },
   "file_extension": ".py",
   "mimetype": "text/x-python",
   "name": "python",
   "nbconvert_exporter": "python",
   "pygments_lexer": "ipython3",
   "version": "3.10.12"
  }
 },
 "nbformat": 4,
 "nbformat_minor": 2
}
