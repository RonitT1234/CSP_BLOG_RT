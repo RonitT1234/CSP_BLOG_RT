{
 "cells": [
  {
   "cell_type": "markdown",
   "metadata": {},
   "source": [
    "---\n",
    "toc: true\n",
    "comments: false\n",
    "layout: post\n",
    "title: Complete Team Teach Notes and Thoughts\n",
    "description:  Teams Teaches\n",
    "courses: { compsci: {week: 8} }\n",
    "type: hacks\n",
    "---"
   ]
  },
  {
   "cell_type": "markdown",
   "metadata": {},
   "source": [
    "# Data Abstraction\n",
    "\n",
    "Variables are considered abstraction as they assign a value to another value. In other words, they basically describe values to each other. Variables are important as it can be used in many different uses such as they can store useful information, especially if you have a long lines of code. Variables are mostly used to store data such as numbers (we are going to go over integers today), booleans, lists, strings and dictionaries.\n",
    "\n",
    "## Data Types:\n",
    "Integer: A whole number\n",
    "Boolean: True or False based on operators\n",
    "String: Anything that contains \"{text is stored in here}\""
   ]
  },
  {
   "cell_type": "code",
   "execution_count": 5,
   "metadata": {},
   "outputs": [
    {
     "name": "stdout",
     "output_type": "stream",
     "text": [
      "[\"Bill\", \"Bob\", \"Ben\", \"Bailey\"]\n"
     ]
    }
   ],
   "source": [
    "# Converting Sring to and from JSON\n",
    "\n",
    "import json \n",
    "list = [\"Bill\", \"Bob\", \"Ben\", \"Bailey\"] \n",
    "json_obj = json.dumps(list) \n",
    "print(json_obj)"
   ]
  },
  {
   "cell_type": "code",
   "execution_count": 3,
   "metadata": {},
   "outputs": [],
   "source": [
    "# Classes and self\n",
    "\n",
    "def __init__(self, name, age):\n",
    "    self.name = name\n",
    "    self.age = age\n",
    "\n",
    "def myfunc(self):\n",
    "    print(\"Hello my name is \" + self.name)"
   ]
  },
  {
   "cell_type": "markdown",
   "metadata": {},
   "source": [
    "# Algorithms\n",
    "Algorithm: a finite set of instructions that accomplish a specific task.\n",
    "Algorithm is like a list of steps that occur in a specific/particular order.\n",
    "Iteration/repetition→ First step, second step, continue condition, Yes or no, step to do if true\n",
    "Ways to write algorithm: flow chart(use arrows to tell decision)\n",
    "Addition: a + b\n",
    "Subtraction: a - b\n",
    "Multiplication: a * b\n",
    "Division: a / b\n",
    "Modulus (remainder of a/b): a MOD b\n",
    "For python it is %\n",
    "Math in order of operations\n",
    "MOD is held to the value of multiplication + division in PEMDAS"
   ]
  },
  {
   "cell_type": "code",
   "execution_count": 2,
   "metadata": {},
   "outputs": [
    {
     "name": "stdout",
     "output_type": "stream",
     "text": [
      "32.5\n"
     ]
    }
   ],
   "source": [
    "# Math \n",
    "num1 = 40\n",
    "num2 = num1 / 2\n",
    "num3 = 5 * num2 + 3\n",
    "result = num2 % 3 * num1 + 4 - num3 / 2\n",
    "print (result)"
   ]
  },
  {
   "cell_type": "code",
   "execution_count": 1,
   "metadata": {},
   "outputs": [
    {
     "name": "stdout",
     "output_type": "stream",
     "text": [
      "True\n",
      "False\n"
     ]
    }
   ],
   "source": [
    "# Example Algorithim for Palindromes\n",
    "def palindrome(input_str):\n",
    "    # Remove spaces and convert the string to lowercase\n",
    "    clean_str = input_str.replace(\" \", \"\").lower()\n",
    "    # Check if the cleaned string is equal to its reverse\n",
    "    return clean_str == clean_str[::-1]\n",
    "\n",
    "\n",
    "print(palindrome(\"taco cat\")) # True\n",
    "print(palindrome(\"hi\")) # False"
   ]
  },
  {
   "cell_type": "markdown",
   "metadata": {},
   "source": [
    "# Boolean If \n",
    "Boolean: Data-type that can either be true or false\n",
    "If-Statements/Conditionals: Self, explanatory, runs a portion of code if expression/condition is satisfied.\n",
    "Used to compare two variables, returns a boolean\n",
    "\n",
    "## Relational Operators\n",
    "==\n",
    "Checks if two variables are equal\n",
    "!=\n",
    "Checks if two variables are not equal\n",
    "a > b\n",
    "Checks if variable a is greater than b\n",
    "a < b\n",
    "Checks if variable a is less than b\n",
    "a >= b and a <= b\n",
    "Same as above, but greater than or equal to and less than or equal to"
   ]
  },
  {
   "cell_type": "code",
   "execution_count": 6,
   "metadata": {},
   "outputs": [
    {
     "name": "stdout",
     "output_type": "stream",
     "text": [
      "True\n",
      "False\n",
      "<class 'int'>\n"
     ]
    }
   ],
   "source": [
    "# Example Boolean\n",
    "boolean = True\n",
    "print(boolean)\n",
    "boolean = False\n",
    "print(boolean)\n",
    "boolean = 1\n",
    "## boolean is not longer a boolean, now an integer\n",
    "print(type(boolean))"
   ]
  },
  {
   "cell_type": "code",
   "execution_count": 7,
   "metadata": {},
   "outputs": [
    {
     "name": "stdout",
     "output_type": "stream",
     "text": [
      "Number is odd\n"
     ]
    }
   ],
   "source": [
    "#Example If\n",
    "number = int(input('Enter a number: '))\n",
    "\n",
    "if (number % 2 == 0):\n",
    "    print('Number is even')\n",
    "else: \n",
    "    print('Number is odd')"
   ]
  },
  {
   "cell_type": "markdown",
   "metadata": {},
   "source": [
    "# Iteration\n",
    " Loops are essential for repetitive tasks and are a fundamental concept in programming. We will cover different types of loops, advanced loop techniques, and how to work with lists and dictionaries using loops.\n",
    "\n",
    "## For Loops\n",
    "Used to iterate over a sequence (such as a list, tuple, string, or range)\n",
    "Executes a block of code for each item in the sequence\n",
    "\n",
    "## While Loops\n",
    "Used to execute a block of code as long as a condition is true"
   ]
  },
  {
   "cell_type": "code",
   "execution_count": 8,
   "metadata": {},
   "outputs": [
    {
     "name": "stdout",
     "output_type": "stream",
     "text": [
      "apple\n",
      "banana\n",
      "cherry\n"
     ]
    }
   ],
   "source": [
    "#For Loop\n",
    "fruits = [\"apple\", \"banana\", \"cherry\"]\n",
    "for fruit in fruits:\n",
    "    print(fruit)"
   ]
  },
  {
   "cell_type": "code",
   "execution_count": 9,
   "metadata": {},
   "outputs": [
    {
     "name": "stdout",
     "output_type": "stream",
     "text": [
      "1\n",
      "2\n",
      "3\n",
      "4\n",
      "name : Ronit\n",
      "age : 15\n",
      "city : San Diego\n"
     ]
    }
   ],
   "source": [
    "# Looping in lists \n",
    "numbers = [1, 2, 3, 4]\n",
    "for num in numbers:\n",
    "    print(num)\n",
    "    \n",
    "person = {\"name\": \"Ronit\", \"age\": 15, \"city\": \"San Diego\"}\n",
    "for key, value in person.items():\n",
    "    print(key, \":\", value)\n"
   ]
  },
  {
   "cell_type": "markdown",
   "metadata": {},
   "source": [
    "# Developing Algorithms \n",
    "An algorithm is a procedure or formula used for solving a problem. It has a sequence of events, inputs, and outputs.\n",
    "\n",
    "Algorithms are used in many different aspect of life. For example a form of routine is an algorithm as it is a series of specified events.\n",
    "\n",
    "It solves a problem in a way that it can be applied to any similar problem. It allows the computer to solve the problem on its own w/o any form of human interference."
   ]
  },
  {
   "cell_type": "code",
   "execution_count": 13,
   "metadata": {},
   "outputs": [
    {
     "name": "stdout",
     "output_type": "stream",
     "text": [
      "What is the cost of the item?\n"
     ]
    }
   ],
   "source": [
    "# Example Tax Algorithm \n",
    "print(\"What is the cost of the item?\")\n",
    "cost = int(input())\n",
    "tag = bool(input())\n",
    "\n",
    "if tag == True: # Check if it is green tag (refer to lines above)\n",
    "    cost = 0.75 * cost\n",
    "if tag == False: # Check if it is green tag (refer to lines above)\n",
    "    cost = 0.40 * cost\n",
    "cost = 1.10 * cost # accounting for tax"
   ]
  },
  {
   "cell_type": "markdown",
   "metadata": {},
   "source": [
    "# Lists and Searches\n",
    "A Python list is an ordered and changeable collection of data objects. Unlike an array, which can contain objects of a single type, a list can contain a mixture of objects. They start from 0. (The 1st element would actually be the 0th element)\n",
    "\n",
    "### How to Create a list\n",
    "In order to create a list named “aList”, type aList = []. This creates an empty list. A list with elements would look like this aList = [element1,element2,element3]"
   ]
  },
  {
   "cell_type": "code",
   "execution_count": 14,
   "metadata": {},
   "outputs": [
    {
     "name": "stdout",
     "output_type": "stream",
     "text": [
      "Things You Want: ['fornite', 'cats']\n"
     ]
    }
   ],
   "source": [
    "#Example List plus appending\n",
    "aList = []\n",
    "\n",
    "while True:\n",
    "    user_input = input(\"Enter an item you want (or 'q' to quit): \")  \n",
    "    if user_input.lower() == 'q':\n",
    "        break\n",
    "    aList.append(user_input)\n",
    "print(\"Things You Want:\", aList)"
   ]
  },
  {
   "cell_type": "markdown",
   "metadata": {},
   "source": [
    "# Developing Procedures\n",
    "A procedure is a named group of code that has paramaters and return values. Procedures are known as methods or functions depending on the language.\n",
    "\n",
    "A procedure executes the statements within it on the parameters to provide a return value.\n",
    "\n",
    "Paramaters are input values of a procedure that are specified by arguments.Arguments specify the values of the parameters when a procedure is called.\n"
   ]
  },
  {
   "cell_type": "raw",
   "metadata": {},
   "source": [
    "#Psuedo Cod for long Prodcedure involving tax\n",
    "\n",
    "A 60$ item recieves a 20% discount and taxed at 8%.\n",
    "PROCEDURE applyDiscount(cost, percentDiscounted)\n",
    "{\n",
    "    temp ← 100 - percentDiscounted\n",
    "    temp← temp/ 100\n",
    "    cost ← cost *temp\n",
    "    RETURN(cost)\n",
    "}\n",
    "\n",
    "price ← applyDiscount(60, 20)\n",
    "This is how we get the final price with the discount by calling the procedure and assigning it to the price variable.\n",
    "\n",
    "\n",
    "PROCEDURE applyTax(cost, percentTaxed)\n",
    "{\n",
    "    temp ← 100 + percentTaxed\n",
    "    temp← temp/ 100\n",
    "    cost ← cost *temp\n",
    "    RETURN(cost)\n",
    "}\n",
    "price ← applyTax(price, 8)\n",
    "This applys the 8% tax to the price determined after the discount."
   ]
  },
  {
   "cell_type": "markdown",
   "metadata": {},
   "source": [
    "# Libraries\n",
    "A file that contains procedures that can be used in a program is called a library. An Application Program Interface, or API, contains specifications for how the procedures in a library behave and can be used. It allows the imported procedures from the library to interact with the rest of your code.\n",
    "\n",
    "There are many types of libraries that modern day companies use, such as Requests, Pillow, Pandas, NumPy, SciKit-Learn, TensorFlow, and Matplotlib. Requests: The Requests library simplifies making HTTP requests in Python, making it easy to interact with web services and retrieve data from websites."
   ]
  },
  {
   "cell_type": "code",
   "execution_count": null,
   "metadata": {},
   "outputs": [],
   "source": [
    "#importing and using a library\n",
    "from PIL import Image\n",
    "\n",
    "# Example usage:\n",
    "image = Image.open('/home/lincolnc2008/vscode/student3/images/frog-game.jpg')#This is the path of the image\n",
    "image.show()"
   ]
  },
  {
   "cell_type": "code",
   "execution_count": 15,
   "metadata": {},
   "outputs": [
    {
     "name": "stdout",
     "output_type": "stream",
     "text": [
      "[1 2 3 4 5]\n"
     ]
    }
   ],
   "source": [
    "# using numpy array on a list \n",
    "\n",
    "import numpy as np\n",
    "\n",
    "# Example usage:\n",
    "arr = np.array([1, 2, 3, 4, 5])\n",
    "print(arr)"
   ]
  }
 ],
 "metadata": {
  "kernelspec": {
   "display_name": "Python 3",
   "language": "python",
   "name": "python3"
  },
  "language_info": {
   "codemirror_mode": {
    "name": "ipython",
    "version": 3
   },
   "file_extension": ".py",
   "mimetype": "text/x-python",
   "name": "python",
   "nbconvert_exporter": "python",
   "pygments_lexer": "ipython3",
   "version": "3.10.12"
  }
 },
 "nbformat": 4,
 "nbformat_minor": 2
}
