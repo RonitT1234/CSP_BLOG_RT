{
 "cells": [
  {
   "cell_type": "markdown",
   "metadata": {},
   "source": [
    "---\n",
    "toc: true\n",
    "comments: false\n",
    "layout: post\n",
    "title: CollegeBoard 2018 Practice MC\n",
    "description: CollegeBoard Review and Missed Answers\n",
    "courses: { compsci: {week: 8} }\n",
    "type: hacks\n",
    "---"
   ]
  },
  {
   "cell_type": "markdown",
   "metadata": {},
   "source": [
    "# Missed Questions:\n",
    "Q54, Q44, Q42, Q37, Q18, Q9."
   ]
  },
  {
   "cell_type": "markdown",
   "metadata": {},
   "source": [
    "# Q54\n",
    "![Q54](https://media.discordapp.net/attachments/795744270732099634/1171156369471176824/Q54.png?ex=655ba75d&is=6549325d&hm=3693eb9178572ce69fb409abad035dbb78704013f251413aa21ee8045bdadaa9&=&width=718&height=332 'Q54')"
   ]
  },
  {
   "cell_type": "markdown",
   "metadata": {},
   "source": [
    "## Why chosen answer is wrong:\n",
    "Option B is incorrect because even though it is very similar to the given eqautions of n^2 and n^3, its not a generalization because it uses the specific number of 4 in n^4. This is not general and cannot be applied to everything. \n",
    "## Why correct answer is right:\n",
    "Option D is correct because it is a complete generalization of the given eqautions of n^2 and n^3, it leaves n unchanged while making the 2 and 3 represented my m. This means the equation is very generalized because the number can applied in any situation. "
   ]
  },
  {
   "cell_type": "markdown",
   "metadata": {},
   "source": [
    "# Q44\n",
    "![Q44](https://media.discordapp.net/attachments/795744270732099634/1171156369190178816/Q44.png?ex=655ba75d&is=6549325d&hm=793f8989249af136992aa3eef29187dfbd10b9e08d8dc85675311ee2af807207&=&width=718&height=348 'Q44')"
   ]
  },
  {
   "cell_type": "markdown",
   "metadata": {},
   "source": [
    "## Why chosen answer is wrong:\n",
    "Option C is incorrect because when you add 10+7 it would cause and overflow erorr because not enoug bits. This means III can't be correct ruling out Option C. \n",
    "## Why correct answer is right:\n",
    "\n",
    "Option B is correct because its just II. WIth 4 bit reprsentaion you can represent 2^4 values which basically means numbers up to 15. since 7+10 is greater than 15, an overflow error will happen making Option B correct. "
   ]
  },
  {
   "cell_type": "markdown",
   "metadata": {},
   "source": [
    "# Q42\n",
    "![Q42](https://media.discordapp.net/attachments/795744270732099634/1171156368879783987/Q42.png?ex=655ba75d&is=6549325d&hm=41fe0ead22b1ec57ecd77dfb9f4b5e73da9467d032b84ced9936c21ce3b48ea8&=&width=718&height=281 'Q42')"
   ]
  },
  {
   "cell_type": "markdown",
   "metadata": {},
   "source": [
    "## Why chosen answer is wrong:\n",
    "IPv6 does not have 96 times number of address more than IPv4. Its 2^96 instead of that. This makes Option B incorrect. \n",
    "\n",
    "## Why correct answer is right:\n",
    "\n",
    "because adressing goes from 32-bit to 128-bit from IPv4 to IPv6 possible adresses we can use 2^32 * 2^96 giving 2^128, IPV4 therefore has 2^96 time as many possible adresses as IPv4."
   ]
  },
  {
   "cell_type": "markdown",
   "metadata": {},
   "source": [
    "# Q37\n",
    "![Q37](https://media.discordapp.net/attachments/795744270732099634/1171156368598761542/Q37.png?ex=655ba75d&is=6549325d&hm=7b6ef9735476e772a7bb8e6324dbc6fa2555438fb9b0582a2f04c6b0039aad75&=&width=718&height=443 'Q37')"
   ]
  },
  {
   "cell_type": "markdown",
   "metadata": {},
   "source": [
    "## Why chosen answer is wrong:\n",
    "Code Segment two wokrs properly. Code Segment displays the average but a bunch of numbers averages before it reaches that number. I misinterpeted the question when it was aksing for the average. \n",
    "## Why correct answer is right:\n",
    "Option C is correct beucause Program 1 does require more arithemtic operations that Program 2. Even though both programs get the average because of the for loop in program 1. You repeat calculations that are redundant. "
   ]
  },
  {
   "cell_type": "markdown",
   "metadata": {},
   "source": [
    "# 18\n",
    "![Q18](https://media.discordapp.net/attachments/795744270732099634/1171156368321957888/Q18.png?ex=655ba75d&is=6549325d&hm=c46b2964dc145713d859336c890b341541a6dfeeabbc770847cbdb58b7f9f0c6&=&width=718&height=298 'Q18')"
   ]
  },
  {
   "cell_type": "markdown",
   "metadata": {},
   "source": [
    "## Why chosen answer is wrong:\n",
    "Option A is incorrect because even though the simulation program was returning inaccurate info, this may be imporved by use even more data. This would have to be tested and trialed before though. \n",
    "## Why correct answer is right:\n",
    "Option C is corrcet because even though removing all the features from the model may make the actual program speedier, and run fasterm the overall accuracy of the predictions will be lower because of the lack of details."
   ]
  },
  {
   "cell_type": "markdown",
   "metadata": {},
   "source": [
    "# Q9\n",
    "![Q9](https://media.discordapp.net/attachments/795744270732099634/1171156368045117563/Q9.png?ex=655ba75d&is=6549325d&hm=6781c5260728187fe68a8a201f59186a74b13571c7e3a693975af2b4f9e6f50c&=&width=718&height=260 'Q9')"
   ]
  },
  {
   "cell_type": "markdown",
   "metadata": {},
   "source": [
    "## Why chosen answer is wrong:\n",
    "Option B is incorrect because program that were developed with an interative and incremental proccess of program development still require Frequent Testing. Just because you use an iterative and incremental procces does not rule ou the neccesity for thourough testing. \n",
    "## Why correct answer is right:\n",
    "The real correct answer is Option D. Option D is correct because using an interative and incremental proccess of program development can help you find errors easier. They are easier to find since the code is being added periodically and not all at once. "
   ]
  }
 ],
 "metadata": {
  "language_info": {
   "name": "python"
  }
 },
 "nbformat": 4,
 "nbformat_minor": 2
}
