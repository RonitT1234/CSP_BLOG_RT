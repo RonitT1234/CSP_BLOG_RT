{
 "cells": [
  {
   "cell_type": "markdown",
   "metadata": {},
   "source": [
    "---\n",
    "toc: true\n",
    "comments: false\n",
    "layout: post\n",
    "title: REFLECTION Trimester 1 CSP\n",
    "description: Tri 1 CSP review\n",
    "courses: { compsci: {week: 8} }\n",
    "type: tangibles\n",
    "---"
   ]
  },
  {
   "cell_type": "markdown",
   "metadata": {},
   "source": [
    "- Things I learned this trimester\n",
    "    - AGILE \n",
    "    - Github Usage/Commits\n",
    "    - Frontend vs Backend\n",
    "    - Backend is Python\n",
    "    - Fronted is combination of css and java.\n",
    "    - Python/Javascript Coding\n",
    "\n",
    "- Challenges Faced\n",
    "    - Commiting without Syncing Pull's \n",
    "    - List Index out of range errors (API)\n",
    "    - Connectig Frontend with Backend\n",
    "    - Last minute localhost fix for night and the muesuem.\n",
    "\n",
    "\n",
    "- Things I want to do for next trimester\n",
    "    - Learn how develop API's using imaegs \n",
    "    - Base64 Decryption of Images on Frontend\n",
    "    - Making more interactive and game oriented programming features.\n",
    "    - Work more Frontend\n",
    "    - Fully understand AWS deployment \n",
    "\n",
    "\n",
    "\n",
    "    "
   ]
  }
 ],
 "metadata": {
  "language_info": {
   "name": "python"
  }
 },
 "nbformat": 4,
 "nbformat_minor": 2
}
