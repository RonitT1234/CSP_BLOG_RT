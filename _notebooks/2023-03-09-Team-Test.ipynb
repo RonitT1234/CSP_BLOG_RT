{
 "cells": [
  {
   "cell_type": "markdown",
   "metadata": {},
   "source": [
    "# Identifying and Correcting Errors"
   ]
  },
  {
   "cell_type": "code",
   "execution_count": 4,
   "metadata": {},
   "outputs": [
    {
     "name": "stdout",
     "output_type": "stream",
     "text": [
      "Test 1 failed. Should be 12, but got 5\n",
      "Test 2 passed\n",
      "Test 3 passed\n"
     ]
    }
   ],
   "source": [
    "\n",
    "# Functino that will be tested\n",
    "def add(a, b):\n",
    "    return a + b\n",
    "\n",
    "# Creating a testing function\n",
    "def test_add_function():\n",
    "    # Test 1: Positive numbers\n",
    "    result = add(2, 3)\n",
    "    #intenionally wrong expected answer to test if checking correct vs incorrect is working\n",
    "    expected = 12\n",
    "    #Checking to see if output is correct\n",
    "    if result == expected:\n",
    "        #Prints out if actual output matches the expected output\n",
    "        print(\"Test 1 passed\")\n",
    "    else:\n",
    "        #Prints out if actual ouput does not match the expected output\n",
    "        print(f\"Test 1 failed. Should be {expected}, but got {result}\")\n",
    "        \n",
    "        \n",
    "\n",
    "    # Test 2: Negative numbers\n",
    "    result = add(-2, -3)\n",
    "    expected = -5  \n",
    "    #Check to see if output is correct\n",
    "    if result == expected:\n",
    "        print(\"Test 2 passed\")\n",
    "    else:\n",
    "        print(f\"Test 2 failed. Should be {expected}, but got {result}\")\n",
    "        \n",
    "        \n",
    "\n",
    "    # Test 3: Mixed numbers\n",
    "    result = add(5, -3)\n",
    "    expected = 2\n",
    "    #Check to see if output is correct\n",
    "    if result == expected:\n",
    "        print(\"Test 3 passed\")\n",
    "    else:\n",
    "        print(f\"Test 3 failed. Should be {expected}, but got {result}\")\n",
    "\n",
    "# Running the overall function\n",
    "test_add_function()"
   ]
  },
  {
   "cell_type": "code",
   "execution_count": 8,
   "metadata": {},
   "outputs": [
    {
     "name": "stdout",
     "output_type": "stream",
     "text": [
      "You are not entering numbers\n"
     ]
    }
   ],
   "source": [
    "try:\n",
    "    # Code to Divide\n",
    "    numerator = int(input(\"Enter your first number: \"))\n",
    "    denominator = int(input(\"Enter your second number: \"))\n",
    "    \n",
    "    result = numerator / denominator\n",
    "    \n",
    "    print(\"Result of Division:\", result)\n",
    "\n",
    "except ZeroDivisionError:\n",
    "    #Prints if denominator is 0\n",
    "    print(\"You can't divide by zero.\")\n",
    "\n",
    "except ValueError:\n",
    "    #Prints if values are not numbers\n",
    "    print(\"You are not entering numbers\")\n"
   ]
  }
 ],
 "metadata": {
  "kernelspec": {
   "display_name": "Python 3 (ipykernel)",
   "language": "python",
   "name": "python3"
  },
  "language_info": {
   "codemirror_mode": {
    "name": "ipython",
    "version": 3
   },
   "file_extension": ".py",
   "mimetype": "text/x-python",
   "name": "python",
   "nbconvert_exporter": "python",
   "pygments_lexer": "ipython3",
   "version": "3.10.12"
  }
 },
 "nbformat": 4,
 "nbformat_minor": 2
}
