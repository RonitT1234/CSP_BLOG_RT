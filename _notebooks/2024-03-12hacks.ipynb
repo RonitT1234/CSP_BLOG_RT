{
 "cells": [
  {
   "cell_type": "raw",
   "metadata": {},
   "source": [
    "---\n",
    "toc: false\n",
    "comments: true\n",
    "layout: default\n",
    "title: MCQ 2020 Frequently Missed Questions\n",
    "description: Frequently Missed Questions for CB MC 2020\n",
    "courses: { compsci: {week: 6} }\n",
    "permalink: /missed-questions\n",
    "---"
   ]
  },
  {
   "cell_type": "markdown",
   "metadata": {},
   "source": [
    "## 4. Cause of overflow Error (1D, binary math) - Tara Sehdave\n",
    "\n",
    "In a certain computer program, two positive integers are added together, resulting in an overflow error. Which of the following best explains why the error occurs?\n",
    "\n",
    "Responses\n",
    "A\n",
    "The program attempted to perform an operation that is considered an undecidable problem.\n",
    "\n",
    "B\n",
    "The precision of the result is limited due to the constraints of using a floating-point representation.\n",
    "\n",
    "C\n",
    "The program can only use a fixed number of bits to represent integers; the computed sum is greater than the maximum representable value.\n",
    "\n",
    "D\n",
    "The program cannot represent integers; the integers are converted into decimal approximations, leading to rounding errors.\n",
    "\n",
    "The correct answer is C because...\n",
    "\n",
    "- Overflow error occurs in a computer program when adding two positive integers.\n",
    "- The program uses a fixed number of bits to represent integers.\n",
    "- The sum of the two integers exceeds the maximum representable value within the fixed number of bits.\n",
    "- Due to this limitation, the program cannot accurately represent the result of the addition.\n",
    "- As a result, an overflow error is triggered to indicate that the computed sum is beyond the representable range."
   ]
  },
  {
   "cell_type": "code",
   "execution_count": 1,
   "metadata": {},
   "outputs": [
    {
     "name": "stdout",
     "output_type": "stream",
     "text": [
      "Max float: 1.7976931348623157e+308\n",
      "Overflow float to infinity: inf\n"
     ]
    }
   ],
   "source": [
    "# python overflow example\n",
    "# as a popcorn hack (binary challenge), describe an overflow in 8 binary digits\n",
    "# Add 1 to 11111111 (255)\n",
    "# Subtract 1 from 00000000 (0)\n",
    "# Try overflow and underflow here: https://nighthawkcoders.github.io/teacher_portfolio/c4.4/2023/09/14/javascript-binary-U2-1.html\n",
    "\n",
    "import sys\n",
    "\n",
    "# Maximum float\n",
    "max_float = sys.float_info.max\n",
    "print(f\"Max float: {max_float}\")\n",
    "\n",
    "# Attempt to overflow float\n",
    "overflow_float = max_float * 2\n",
    "print(f\"Overflow float to infinity: {overflow_float}\")"
   ]
  },
  {
   "cell_type": "markdown",
   "metadata": {},
   "source": [
    "### Popcorn hacks:\n",
    "Q: As a popcorn hack (binary challenge), describe an overflow in 8 binary digits<br>\n",
    "A: 01111111 + 1 = 1 00000000 (This represents an overflow error)"
   ]
  },
  {
   "cell_type": "markdown",
   "metadata": {},
   "source": [
    "## 5. Inputs to Logic Circuit (2D, binary logic) - Hanlun Li\n",
    "\n",
    "The diagram below shows a circuit composed of three logic gates. Each gate takes two inputs and produces a single output. For which of the following input values will the circuit have an output of true ?\n",
    "\n"
   ]
  },
  {
   "cell_type": "markdown",
   "metadata": {},
   "source": [
    "The diagram in question shows a circuit composed of three logic gates. Each gate takes two inputs and produces a single output. <br>\n",
    "\n",
    "For which of the following input values will the circuit have an output of true ? <br>\n",
    "\n",
    "A) A = true,  B = true,  C = true,  D = false <br>\n",
    "B) A = true,  B = false, C = false, D = true <br>\n",
    "C) A = false, B = true,  C = true,  D = true <br>\n",
    "D) A = false, B = false, C = true,  D = true <br>\n",
    "\n",
    "A OR B = True, C AND D = True, and since True AND True = True, C is correct. <br>\n",
    "OR gate only returns true if one of the values is true, and the AND gate returns true if both values are true. "
   ]
  },
  {
   "cell_type": "code",
   "execution_count": 2,
   "metadata": {},
   "outputs": [
    {
     "name": "stdout",
     "output_type": "stream",
     "text": [
      "A B C D --> Output\n",
      "False False False False --> False\n",
      "False False False True --> False\n",
      "False False True False --> False\n",
      "False False True True --> False\n",
      "False True False False --> False\n",
      "False True False True --> False\n",
      "False True True False --> False\n",
      "False True True True --> True\n",
      "True False False False --> False\n",
      "True False False True --> False\n",
      "True False True False --> False\n",
      "True False True True --> True\n",
      "True True False False --> False\n",
      "True True False True --> False\n",
      "True True True False --> False\n",
      "True True True True --> True\n"
     ]
    }
   ],
   "source": [
    "# represent gates and circuits\n",
    "# as a popcorn hack (coding challenge), create multiple new circuits and gates\n",
    "# NOT, NAND, NOR, XOR, XNOR\n",
    "# Create a hypothetical circuit, such as burglar alarm, decision tree for autonomous car, etc.\n",
    "\n",
    "# OR gate\n",
    "def OR_gate(A, B):\n",
    "    return A or B\n",
    "\n",
    "# AND gate\n",
    "def AND_gate(A, B):\n",
    "    return A and B\n",
    "\n",
    "# Theoretical circuit representing a Car starting\n",
    "# A and B could be security checks, such as key being inserted or a fob being present\n",
    "# C and D could be operational checks, such as a start button being pressed and safety belt being fastened\n",
    "# The enclosing AND gate ensures car only operates when both security and operational checks are met\n",
    "def circuit(A, B, C, D):\n",
    "    return AND_gate(OR_gate(A, B), AND_gate(C, D))\n",
    "\n",
    "# Print truth table for circuit\n",
    "print('A', 'B', 'C', 'D', \"-->\", 'Output')\n",
    "# nesting of loops for both the True, False combination of A, B, C, D \n",
    "# this algorithm is 2 ^ 4 = 16, thus producing all 16 combinations \n",
    "# each combination terminates with the output of the circuit\n",
    "for A in [False, True]:\n",
    "    for B in [False, True]:\n",
    "        for C in [False, True]:\n",
    "            for D in [False, True]:\n",
    "                print(A, B, C, D, \"-->\", circuit(A, B, C, D))"
   ]
  },
  {
   "cell_type": "markdown",
   "metadata": {},
   "source": [
    "### Popcorn hack for logic gates:"
   ]
  },
  {
   "cell_type": "code",
   "execution_count": 4,
   "metadata": {},
   "outputs": [
    {
     "name": "stdout",
     "output_type": "stream",
     "text": [
      "A: False B: False C: False D: False --> Output\n",
      "NOT_gate(False,False) = True\n",
      "NAND_gate(False,False) = True\n",
      "A: False B: False C: False D: True --> Output\n",
      "NOT_gate(False,False) = True\n",
      "NAND_gate(False,True) = True\n",
      "A: False B: False C: True D: False --> Output\n",
      "NOT_gate(False,False) = True\n",
      "NAND_gate(True,False) = True\n",
      "A: False B: False C: True D: True --> Output\n",
      "NOT_gate(False,False) = True\n",
      "A: False B: True C: False D: False --> Output\n",
      "NOT_gate(False,True) = True\n",
      "NAND_gate(False,False) = True\n",
      "A: False B: True C: False D: True --> Output\n",
      "NOT_gate(False,True) = True\n",
      "NAND_gate(False,True) = True\n",
      "A: False B: True C: True D: False --> Output\n",
      "NOT_gate(False,True) = True\n",
      "NAND_gate(True,False) = True\n",
      "A: False B: True C: True D: True --> Output\n",
      "NOT_gate(False,True) = True\n",
      "A: True B: False C: False D: False --> Output\n",
      "NAND_gate(False,False) = True\n",
      "A: True B: False C: False D: True --> Output\n",
      "NAND_gate(False,True) = True\n",
      "A: True B: False C: True D: False --> Output\n",
      "NAND_gate(True,False) = True\n",
      "A: True B: True C: False D: False --> Output\n",
      "NOT_gate(True,True) = True\n",
      "NAND_gate(False,False) = True\n",
      "A: True B: True C: False D: True --> Output\n",
      "NOT_gate(True,True) = True\n",
      "NAND_gate(False,True) = True\n",
      "A: True B: True C: True D: False --> Output\n",
      "NOT_gate(True,True) = True\n",
      "NAND_gate(True,False) = True\n",
      "A: True B: True C: True D: True --> Output\n",
      "NOT_gate(True,True) = True\n"
     ]
    }
   ],
   "source": [
    "# Defining all the gates\n",
    "def NOT_gate(A, B):\n",
    "    return not A or B\n",
    "\n",
    "def NAND_gate(C, D):\n",
    "    return not (C and D)\n",
    "\n",
    "def circuit(A, B, C, D):\n",
    "    gate_1 = NOT_gate(A, B)\n",
    "    gate_2 = NAND_gate(C, D)\n",
    "    \n",
    "    # Check if any gate evaluates to True\n",
    "    if any([gate_1, gate_2]):\n",
    "        print('A:', A, 'B:', B, 'C:', C, 'D:', D,\"-->\", 'Output')\n",
    "        if gate_1:\n",
    "            print(\"NOT_gate({},{}) = {}\".format(A, B, gate_1))\n",
    "        if gate_2:\n",
    "            print(\"NAND_gate({},{}) = {}\".format(C, D, gate_2))\n",
    "\n",
    "# Printing the output for all combinations of inputs\n",
    "for A in [False, True]:\n",
    "    for B in [False, True]:\n",
    "        for C in [False, True]:\n",
    "            for D in [False, True]:\n",
    "                   circuit(A, B, C, D)\n"
   ]
  },
  {
   "cell_type": "markdown",
   "metadata": {},
   "source": [
    "## 11. Color represented by binary Triplet (2D, binary) - Torin Wolff\n",
    "\n",
    "A color in a computing application is represented by an RGB triplet that describes the amount of red, green, and blue, respectively, used to create the desired color. A selection of colors and their corresponding RGB triplets are shown in the following table. Each value is represented in decimal (base 10).\n",
    "\n",
    "According to information in the table, what color is represented by the binary RGB triplet (11111111, 11111111, 11110000) ?\n",
    "\n",
    "#### What is a binary triplet?\n",
    "A binary triplet is a set of three binary numbers. Binary numbers are numbers that are represented by a series of 1's and 0's. Binary numbers are used in computers because they are easy to represent with electrical signals. A binary triplet is a set of three binary numbers that are used to represent a color. The first number represents the amount of red in the color, the second number represents the amount of green in the color, and the third number represents the amount of blue in the color. The numbers are represented in binary because it is easy to represent with electrical signals. The numbers are represented in a triplet because it is easy to represent with electrical signals.\n",
    "\n",
    "#### How is a color in binary represented?\n",
    "A color in binary is represented by a set of three binary numbers. The first number represents the amount of red in the color, the second number represents the amount of green in the color, and the third number represents the amount of blue in the color. The numbers are represented in binary because it is easy to represent with electrical signals. The numbers are represented in a triplet because it is easy to represent with electrical signals. An example of this would be: (01101110, 11111111, 10010110), if you converted this binary triplet to a decimal number it would be 110, 255, 150. This would be a shade of the color green.\n",
    "\n",
    "#### How do you convert a binary triplet to a decimal number?\n",
    "To convert a binary string to a decimal number you need to multiply each digit by its place value. For example, if you have the binary string 1010 you would multiply the first digit by 2^3, the second digit by 2^2, the third digit by 2^1, and the fourth digit by 2^0. This would give you the decimal number 10. To convert a binary triplet to a decimal number you need to multiply each digit by its place value. For example, if you have the binary triplet (01101110, 11111111, 10010110) you would multiply the first digit by 2^7, the second digit by 2^6, the third digit by 2^5, the fourth digit by 2^4, the fifth digit by 2^3, the sixth digit by 2^2, the seventh digit by 2^1, and the eighth digit by 2^0. This would give you the decimal number 110, 255, 150.\n",
    "\n",
    "(0 * 2^7) + (1 * 2^6) + (1 * 2^5) + (0 * 2^4) + (1 * 2^3) + (1 * 2^2) + (1 * 2^1) + (0 * 2^0)\n",
    "\n",
    "= 0 + 64 + 32 + 0 + 8 + 4 + 2 + 0\n",
    "\n",
    "= 110\n",
    "\n",
    "(insert photo)\n",
    "\n",
    "\n"
   ]
  },
  {
   "cell_type": "code",
   "execution_count": 2,
   "metadata": {},
   "outputs": [
    {
     "name": "stdout",
     "output_type": "stream",
     "text": [
      "binary: 11111111 11111111 11110000\n",
      "decimal 255 255 240\n",
      "proportion 1.0 1.0 0.9411764705882353\n"
     ]
    },
    {
     "data": {
      "image/png": "[encoded data removed]",
      "text/plain": [
       "<Figure size 144x144 with 1 Axes>"
      ]
     },
     "metadata": {
      "needs_background": "light"
     },
     "output_type": "display_data"
    },
    {
     "name": "stdout",
     "output_type": "stream",
     "text": [
      "binary: 11111111 00000000 00000000\n",
      "decimal 255 0 0\n",
      "proportion 1.0 0.0 0.0\n",
      "binary: 00000000 11111111 00000000\n",
      "decimal 0 255 0\n",
      "proportion 0.0 1.0 0.0\n",
      "binary: 00000000 00000000 11111111\n",
      "decimal 0 0 255\n",
      "proportion 0.0 0.0 1.0\n"
     ]
    },
    {
     "data": {
      "image/png": "[encoded data removed]",
      "text/plain": [
       "<Figure size 432x144 with 3 Axes>"
      ]
     },
     "metadata": {
      "needs_background": "light"
     },
     "output_type": "display_data"
    }
   ],
   "source": [
    "# Convert binary RGB triplet to decimal\n",
    "# as a hack (binary challenge), make the rgb standard colors\n",
    "# as a 2nd hack, make your favorite color pattern \n",
    "\n",
    "import matplotlib.pyplot as plt\n",
    "import matplotlib.patches as patches\n",
    "\n",
    "# Function to convert binary to decimal\n",
    "def binary_to_decimal(binary):\n",
    "    return int(binary, 2)\n",
    "\n",
    "def plot_colors(rgb_triplets):\n",
    "    # Create a figure with one subplot per RGB triplet\n",
    "    fig, axs = plt.subplots(1, len(rgb_triplets), figsize=(2 * len(rgb_triplets), 2))\n",
    "    \n",
    "    # Ensure axs is always a list\n",
    "    axs = axs if len(rgb_triplets) > 1 else [axs]\n",
    "\n",
    "    for ax, (red_binary, green_binary, blue_binary) in zip(axs, rgb_triplets):\n",
    "        # Convert to binary strings to decimal\n",
    "        red_decimal = binary_to_decimal(red_binary)\n",
    "        green_decimal = binary_to_decimal(green_binary)\n",
    "        blue_decimal = binary_to_decimal(blue_binary)\n",
    "\n",
    "        # Normalize number to [0, 1] range, as it is expected by matplotlib \n",
    "        red, green, blue = red_decimal/255, green_decimal/255, blue_decimal/255\n",
    "\n",
    "        # Define a rectangle patch with the binary RGB triplet color and a black border\n",
    "        rect = patches.Rectangle((0, 0), 1, 1, facecolor=(red, green, blue), edgecolor='black', linewidth=2)\n",
    "        \n",
    "        # Add the rectangle to the plot which shows the color \n",
    "        ax.add_patch(rect)\n",
    "\n",
    "        # Remove axis information, we just want to see the color\n",
    "        ax.axis('off')\n",
    "\n",
    "        # Print the binary and decimal values\n",
    "        print(\"binary:\", red_binary, green_binary, blue_binary)    \n",
    "        print(\"decimal\", red_decimal, green_decimal, blue_decimal)\n",
    "        print(\"proportion\", red, green, blue)\n",
    "\n",
    "    # Show the colors\n",
    "    plt.show()\n",
    "\n",
    "# Test the function with a list of RGB triplets\n",
    "rgb_triplet = [('11111111', '11111111', '11110000')] # College Board example\n",
    "plot_colors(rgb_triplet)\n",
    "\n",
    "rgb_primary = [('11111111', '00000000', '00000000'), \n",
    "                ('00000000', '11111111', '00000000'),\n",
    "                ('00000000', '00000000', '11111111')]\n",
    "plot_colors(rgb_primary)"
   ]
  },
  {
   "cell_type": "markdown",
   "metadata": {},
   "source": [
    "### Popcorn hacks for binary to decimal conversion for RBG triplets:"
   ]
  },
  {
   "cell_type": "code",
   "execution_count": 5,
   "metadata": {},
   "outputs": [
    {
     "data": {
      "image/png": "[encoded data removed]",
      "text/plain": [
       "<Figure size 720x216 with 4 Axes>"
      ]
     },
     "metadata": {},
     "output_type": "display_data"
    }
   ],
   "source": [
    "import matplotlib.pyplot as plt\n",
    "\n",
    "# Displaying RBG standard colors\n",
    "def binary_rgb_to_decimal(binary_rgb):\n",
    "    decimal_rgb = []\n",
    "    for color in binary_rgb:\n",
    "        decimal_color = int(color, 2)  # Convert binary to decimal\n",
    "        decimal_rgb.append(decimal_color)\n",
    "    return decimal_rgb\n",
    "\n",
    "binary_rgb_colors = {\n",
    "    'red': ('11111111', '00000000', '00000000'),\n",
    "    'green': ('00000000', '11111111', '00000000'),\n",
    "    'blue': ('00000000', '00000000', '11111111'),\n",
    "}\n",
    "\n",
    "plt.figure(figsize=(10, 3))\n",
    "for i, (color, binary_rgb) in enumerate(binary_rgb_colors.items()):\n",
    "    decimal_rgb = binary_rgb_to_decimal(binary_rgb)\n",
    "    plt.subplot(1, 4, i+1)\n",
    "    plt.plot([0, 1], [0, 0], color=[x / 255 for x in decimal_rgb])\n",
    "    plt.title(color.capitalize())\n",
    "    plt.xticks([])\n",
    "    plt.yticks([])\n",
    "\n",
    "# Favorite color pattern\n",
    "favorite_color_binary = ('00101110', '10001011', '01010111')\n",
    "\n",
    "favorite_color_decimal = binary_rgb_to_decimal(favorite_color_binary)\n",
    "\n",
    "plt.subplot(1, 4, 4)\n",
    "plt.plot([0, 1], [0, 0], color=[x / 255 for x in favorite_color_decimal])\n",
    "plt.title('Favorite Color')\n",
    "plt.xticks([])\n",
    "plt.yticks([])\n",
    "\n",
    "plt.tight_layout()\n",
    "plt.show()"
   ]
  },
  {
   "cell_type": "markdown",
   "metadata": {},
   "source": [
    "## 50. Reasonable time algorithms (1D, Big O) - Vance Reynolds \n",
    "\n",
    "Consider the following algorithms. Each algorithm operates on a list containing n elements, where n is a very large integer.\n",
    "\n",
    "- An algorithm that accesses each element in the list twice\n",
    "- An algorithm that accesses each element in the list n times\n",
    "- An algorithm that accesses only the first 10 elements in the list, regardless of the size of the list\n",
    "\n",
    "\n",
    "Which of the algorithms run in reasonable time?\n",
    "Answer D is correct because in order for an algorithm to run in reasonable time, it must take a number of steps less than or equal to a polynomial function.\n",
    " \n",
    "- Algorithm I accesses elements times (twice for each of n elements), which is considered in time. \n",
    "- Algorithm II accesses elements (n times for each of n elements), which is in reasonable time. \n",
    "- Algorithm III accesses 10 elements, which is in reasonable time.\n",
    "\n",
    "Simple Explainations:\n",
    "\n",
    "Unreasonable time: Algorithms with exponential or factorial efficiencies are examples of algorithms that run in an unreasonable amount of time.\n",
    "\n",
    "Reasonable time: Algorithms with a polynomial efficiency or lower (constant, linear, square, cube, etc.) are said to run in a reasonable amount of time."
   ]
  },
  {
   "cell_type": "code",
   "execution_count": 1,
   "metadata": {},
   "outputs": [
    {
     "name": "stdout",
     "output_type": "stream",
     "text": [
      "Algorithm 2 * N took 0.18 milliseconds\n",
      "Algorithm N^2 took 744.56 milliseconds\n",
      "Algorithm 10 times took 0.04 milliseconds\n"
     ]
    }
   ],
   "source": [
    "# Big O notation example algorithms\n",
    "# as a popcorn hack (coding challenge), scale list of size by factor of 10 and measure the times\n",
    "# What do you think about college board's notion of reasonable time for an algorithm?\n",
    "# Answer: I think CollegeBoard's notion of reasonable time for an algorithm is unreasonable, as n^n should not be considered to run in reasonable time in my opinion.\n",
    "# as a 2nd hack, create a slow algorithm and measure its time, which are considered slow algorithms... \n",
    "#   O(n^3) which is three nested loops\n",
    "#   O(2^n) which is a recursive algorithm with two recursive calls\n",
    "\n",
    "import time\n",
    "\n",
    "# O(n) Algorithm that accesses each element in the list twice, 2 * n times \n",
    "def algorithm_2n(lst):\n",
    "    for i in lst:\n",
    "        pass\n",
    "    for i in lst:\n",
    "        pass\n",
    "\n",
    "# O(n^2) Algorithm that accesses each element in the list n times, n * n times\n",
    "def algorithm_nSquared(lst):\n",
    "    for i in lst:\n",
    "        for j in lst:\n",
    "            pass\n",
    "\n",
    "# O(1) Algorithm that accesses only the first 10 elements in the list, 10 * 1 is constant \n",
    "def algorithm_10times(lst):\n",
    "    for i in lst[:10]:\n",
    "        pass\n",
    "\n",
    "# Create a large list\n",
    "n = 10000\n",
    "lst = list(range(n))\n",
    "\n",
    "# Measure the time taken by algorithm1\n",
    "start = time.time()\n",
    "algorithm_2n(lst)\n",
    "end = time.time()\n",
    "print(f\"Algorithm 2 * N took {(end - start)*1000:.2f} milliseconds\")\n",
    "\n",
    "# Measure the time taken by algorithm2\n",
    "start = time.time()\n",
    "algorithm_nSquared(lst)\n",
    "end = time.time()\n",
    "print(f\"Algorithm N^2 took {(end - start)*1000:.2f} milliseconds\")\n",
    "\n",
    "# Measure the time taken by algorithm3\n",
    "start = time.time()\n",
    "algorithm_10times(lst)\n",
    "end = time.time()\n",
    "print(f\"Algorithm 10 times took {(end - start)*1000:.2f} milliseconds\")"
   ]
  },
  {
   "cell_type": "markdown",
   "metadata": {},
   "source": [
    "### Popcorn hacks for algorithm run-time (#1):"
   ]
  },
  {
   "cell_type": "code",
   "execution_count": 7,
   "metadata": {},
   "outputs": [
    {
     "name": "stdout",
     "output_type": "stream",
     "text": [
      "Original list size: 10000\n",
      "Scaled list size: 100000\n",
      "Execution time: 0.0005292892456054688 seconds\n"
     ]
    }
   ],
   "source": [
    "import time\n",
    "\n",
    "# Function to scale list size by a factor of 10\n",
    "def scale_list_size(lst, factor):\n",
    "    scaled_lst = lst * factor\n",
    "    return scaled_lst\n",
    "\n",
    "# Generate a sample list\n",
    "list = [1] * 10000\n",
    "\n",
    "# Record the start time\n",
    "start_time = time.time()\n",
    "\n",
    "# Scale the list size by a factor of 10\n",
    "scaled_list = scale_list_size(list, 10)\n",
    "\n",
    "# Record the end time\n",
    "end_time = time.time()\n",
    "\n",
    "# Calculate the execution time\n",
    "execution_time = end_time - start_time\n",
    "\n",
    "print(\"Original list size:\", len(list))\n",
    "print(\"Scaled list size:\", len(scaled_list))\n",
    "print(\"Execution time:\", execution_time, \"seconds\")"
   ]
  },
  {
   "cell_type": "markdown",
   "metadata": {},
   "source": [
    "### Popcorn hacks for algorithm run-time (#2):"
   ]
  },
  {
   "cell_type": "code",
   "execution_count": 1,
   "metadata": {},
   "outputs": [
    {
     "name": "stdout",
     "output_type": "stream",
     "text": [
      "Algorithm N^2 took 6.62 milliseconds\n"
     ]
    }
   ],
   "source": [
    "import time\n",
    "\n",
    "# O(n^2) Algorithm that accesses each element in the list n times, n * n times\n",
    "def algorithm_nSquared(lst):\n",
    "    for i in lst:\n",
    "        for j in lst:\n",
    "            pass\n",
    "\n",
    "# Create a large list\n",
    "n = 1000\n",
    "lst = list(range(n))\n",
    "\n",
    "# Measure the time taken by the n^3 algorithm\n",
    "start = time.time()\n",
    "algorithm_nSquared(lst)\n",
    "end = time.time()\n",
    "print(f\"Algorithm N^2 took {(end - start)*1000:.2f} milliseconds\")"
   ]
  },
  {
   "cell_type": "markdown",
   "metadata": {},
   "source": [
    "## 56. Compare execution times of tow version (1D analysis) - Kayden Le\n",
    "\n",
    "An online game collects data about each player’s performance in the game. A program is used to analyze the data to make predictions about how players will perform in a new version of the game.\n",
    "\n",
    "The procedure GetPrediction (idNum) returns a predicted score for the player with ID number idNum. Assume that all predicted scores are positive. The GetPrediction procedure takes approximately 1 minute to return a result. All other operations happen nearly instantaneously.\n",
    "\n",
    "Two versions of the program are shown below.\n",
    "\n",
    "Which of the following best compares the execution times of the two versions of the program?\n",
    "\n",
    "Version I calls the GetPrediction procedure once for each element of idList, or four times total. Since each call requires 1 minute of execution time, version I requires approximately 4 minutes to execute. Version II calls the GetPrediction procedure twice for each element of idList, and then again in the final display statement. This results in the procedure being called nine times, requiring approximately 9 minutes of execution time.\n",
    "\n",
    "Both versions aim to achieve the same result, which is to find and display the highest predicted score among the players in idList. However, Version I directly updates the highest score (topScore), while Version II updates the ID of the player with the highest score (topID) and then retrieves the predicted score for that player. Version II essentially avoids calling GetPrediction multiple times for the same ID.\n",
    "\n",
    "The answer: D - Version II requires approximately 5 more minutes to execute than version I\n"
   ]
  },
  {
   "cell_type": "code",
   "execution_count": 4,
   "metadata": {},
   "outputs": [
    {
     "name": "stdout",
     "output_type": "stream",
     "text": [
      "Version I took 240.00 simulated seconds\n",
      "Version II took 540.00 simulated seconds\n"
     ]
    }
   ],
   "source": [
    "# Simulate the time taken by GetPrediction, calling an expensive operation twice is slow\n",
    "# as a popcorn hack (coding challenge)\n",
    "#  measure the time to calulate fibonacci sequence at small and large numbers\n",
    "# `this task will require a code layout and a time measurement\n",
    "#  there are fast ways and slow ways to calculate fibonacci sequence`\n",
    "\n",
    "'''\n",
    "The GetPrediction function is a simulation stand-in for a potentially expensive operation.\n",
    "In a real-world scenario, this could be a call to a;\n",
    "   - machine learning model\n",
    "   - a database query\n",
    "   - fibonacci sequence at a large number\n",
    "   - or any other algorithm that takes a significant amount of time.\n",
    "'''\n",
    "def GetPrediction(idNum):\n",
    "    # time.sleep(60)  # Commented out to avoid actual delay\n",
    "    return idNum * 10  # Dummy prediction\n",
    "\n",
    "# Version I: makes a single call to GetPrediction for each element in idList\n",
    "def version_I(idList):\n",
    "    start = time.time()  # Start timer\n",
    "    topScore = 0\n",
    "    for idNum in idList:\n",
    "        predictedScore = GetPrediction(idNum) # calls GetPrediction once\n",
    "        if predictedScore > topScore: \n",
    "            topScore = predictedScore # stores the topScore to avoid calling GetPrediction again\n",
    "    end = time.time()  # End timer\n",
    "    print(f\"Version I took {end - start + len(idList) * 60:.2f} simulated seconds\")  # Add simulated delay\n",
    "\n",
    "# Version II: makes two calls to GetPrediction for each element in idList\n",
    "def version_II(idList):\n",
    "    start = time.time()  # Start timer\n",
    "    topID = idList[0]\n",
    "    for idNum in idList:\n",
    "        if GetPrediction(idNum) > GetPrediction(topID): # calls GetPrediction twice\n",
    "            topID = idNum # stores the topID, but still calls GetPrediction with topID again\n",
    "    end = time.time()  # End timer\n",
    "    print(f\"Version II took {end - start + len(idList) * 2 * 60 + 60:.2f} simulated seconds\")  # Add simulated delay\n",
    "\n",
    "# Test the functions\n",
    "idList = [1, 2, 3, 4] # Small list\n",
    "# idList = [i for i in range(1, 1000)] # Large list using list comprehension\n",
    "version_I(idList)\n",
    "version_II(idList)"
   ]
  },
  {
   "cell_type": "markdown",
   "metadata": {},
   "source": [
    "### Popcorn hacks for fibonacci sequence run-time:"
   ]
  },
  {
   "cell_type": "code",
   "execution_count": 3,
   "metadata": {},
   "outputs": [
    {
     "name": "stdout",
     "output_type": "stream",
     "text": [
      "For small Fibonacci numbers:\n",
      "Version I took 240.00 simulated seconds\n",
      "Version II took 540.00 simulated seconds\n",
      "\n",
      "For large Fibonacci numbers:\n",
      "Version I took 1803.63 simulated seconds\n",
      "Version II took 3665.76 simulated seconds\n"
     ]
    }
   ],
   "source": [
    "import time\n",
    "\n",
    "# Function to calculate Fibonacci sequence recursively\n",
    "def fibonacci(n):\n",
    "    if n <= 1:\n",
    "        return n\n",
    "    else:\n",
    "        return fibonacci(n-1) + fibonacci(n-2)\n",
    "\n",
    "# Version I: makes a single call to fibonacci for each element in idList\n",
    "def version_I(idList):\n",
    "    start = time.time()  # Start timer\n",
    "    topScore = 0\n",
    "    for idNum in idList:\n",
    "        predictedScore = fibonacci(idNum) # calls fibonacci once\n",
    "        if predictedScore > topScore: \n",
    "            topScore = predictedScore # stores the topScore to avoid calling fibonacci again\n",
    "    end = time.time()  # End timer\n",
    "    print(f\"Version I took {end - start + len(idList) * 60:.2f} simulated seconds\")  # Add simulated delay\n",
    "\n",
    "# Version II: makes two calls to fibonacci for each element in idList\n",
    "def version_II(idList):\n",
    "    start = time.time()  # Start timer\n",
    "    topID = idList[0]\n",
    "    for idNum in idList:\n",
    "        if fibonacci(idNum) > fibonacci(topID): # calls fibonacci twice\n",
    "            topID = idNum # stores the topID, but still calls fibonacci with topID again\n",
    "    end = time.time()  # End timer\n",
    "    print(f\"Version II took {end - start + len(idList) * 2 * 60 + 60:.2f} simulated seconds\")  # Add simulated delay\n",
    "\n",
    "# Test the functions\n",
    "idList_small = [5, 10, 15, 20] # Small list\n",
    "idList_large = [i for i in range(5, 35)] # Large list using list comprehension\n",
    "print(\"For small Fibonacci numbers:\")\n",
    "version_I(idList_small)\n",
    "version_II(idList_small)\n",
    "print(\"\\nFor large Fibonacci numbers:\")\n",
    "version_I(idList_large)\n",
    "version_II(idList_large)"
   ]
  },
  {
   "cell_type": "markdown",
   "metadata": {},
   "source": [
    "## 64. Error with multiplication using repeated addition (4C algorithms and programs) - Abdullah Khanani\n",
    "\n",
    "The following procedure is intended to return the value of x times y, where x and y are integers. Multiplication is implemented using repeated additions.\n",
    "\n",
    "For which of the following procedure calls does the procedure NOT return the intended value?\n",
    "\n",
    "Select two answers."
   ]
  },
  {
   "cell_type": "markdown",
   "metadata": {},
   "source": [
    "### Question 64\n",
    "\n",
    "PROCEDURE Multiply [x,y]\n",
    "    count <-- 0\n",
    "    result <-- 0\n",
    "    REPEAT UNTIL [count ≥ y]\n",
    "        result <-- result + x\n",
    "        count <-- count + 1\n",
    "    RETURN result\n",
    "\n",
    "### Question\n",
    "\n",
    "#### For which of the following procedure calls does the procedure NOT return the intended value? Select two answers.\n",
    "\n",
    "### Options\n",
    "\n",
    "A. Multiply 2,5\n",
    "B. Multiply 2,-5\n",
    "C. Multiply -2,5\n",
    "D. Multiply -2,-5\n",
    "\n",
    "### Answered\n",
    "\n",
    "A and C\n",
    "\n",
    "### Correct Answer\n",
    "\n",
    "B and D\n",
    "\n",
    "### Explanation\n",
    "\n",
    "For procedures A, the procedure repeatedly adds 2 to result five times, resulting in the intended product 10. Vice versa for C. IF you want to return the result and get a correct answer, multiplying 2,-5 and -2,-5 will give you the wanted result. The following procedure is intended to return the value of x times y, where x and y are integers. Multiplication is implemented using repeated additions. A and C fit these requirements."
   ]
  },
  {
   "cell_type": "code",
   "execution_count": 9,
   "metadata": {},
   "outputs": [
    {
     "name": "stdout",
     "output_type": "stream",
     "text": [
      "10\n",
      "0\n",
      "-10\n",
      "0\n"
     ]
    }
   ],
   "source": [
    "# flawed multiply function\n",
    "# as a popcorn hack (coding challenge), fix the multiply function to work with negative numbers\n",
    "\n",
    "'''\n",
    "As you can see, the function fails when y is negative,\n",
    "because the while loop condition count < y is never true in these cases.\n",
    "'''\n",
    "\n",
    "def multiply(x, y):\n",
    "    count = 0\n",
    "    result = 0\n",
    "    while count < y:\n",
    "        result += x\n",
    "        count += 1\n",
    "    return result\n",
    "\n",
    "# Test cases\n",
    "print(multiply(2, 5))  # Expected output: 10\n",
    "print(multiply(2, -5))  # Expected output: -10, Actual output: 0\n",
    "print(multiply(-2, 5))  # Expected output: -10\n",
    "print(multiply(-2, -5))  # Expected output: 10, Actual output: 0"
   ]
  },
  {
   "cell_type": "markdown",
   "metadata": {},
   "source": [
    "### Popcorn hacks for multiplication:"
   ]
  },
  {
   "cell_type": "code",
   "execution_count": 4,
   "metadata": {},
   "outputs": [
    {
     "name": "stdout",
     "output_type": "stream",
     "text": [
      "10\n",
      "-10\n",
      "-10\n",
      "10\n"
     ]
    }
   ],
   "source": [
    "def multiply(x, y):\n",
    "    # Handle sign of the result\n",
    "    sign = 1\n",
    "    if y < 0:\n",
    "        sign = -1\n",
    "        y = abs(y)\n",
    "    \n",
    "    count = 0\n",
    "    result = 0\n",
    "    while count < y:\n",
    "        result += x\n",
    "        count += 1\n",
    "    \n",
    "    return sign * result\n",
    "\n",
    "# Test cases\n",
    "print(multiply(2, 5))   # Expected output: 10\n",
    "print(multiply(2, -5))  # Expected output: -10\n",
    "print(multiply(-2, 5))  # Expected output: -10\n",
    "print(multiply(-2, -5)) # Expected output: 10"
   ]
  },
  {
   "cell_type": "markdown",
   "metadata": {},
   "source": [
    "## 65. Call to concat and substring (4B string operations) - Ameer Hussain\n",
    "\n",
    "A program contains the following procedures for string manipulation.\n",
    "\n",
    "Which of the following can be used to store the string \"jackalope\" in the string variable animal ?\n",
    "\n",
    "Select two answers."
   ]
  },
  {
   "cell_type": "markdown",
   "metadata": {},
   "source": [
    "### Correct Answer C:\n",
    "animal ← Substring(“jackrabbit”, 1, 4) extracts “jack” from “jackrabbit”. animal ← Concat(animal, “a”) appends “a” to “jack”, resulting in “jacka”. animal ← Concat(animal, Substring(“antelope”, 5, 4)) extracts “lope” from “antelope” and appends it to “jacka”, resulting in “jackalope”.\n",
    "\n",
    "### Incorrect Answer D:\n",
    "animal ← Substring(“jackrabbit”, 1, 4) extracts “jack” from “jackrabbit”. animal ← Concat(animal, “a”) appends “a” to “jack”, resulting in “jacka”. animal ← Concat(Substring(“antelope”, 5, 4), animal) is slightly misleading because it extracts “lope” from “antelope” and should prepend it to “jacka”, but this is incorrect because it would result in “lopejacka”. the operations in Answer D would not result in “jackalope”.\n",
    "\n",
    "animal ← Substring(“antelope”, 5, 4) would assign the substring “lope” from “antelope” to the variable animal. animal ← Concat(“a”, animal) would then prepend “a” to “lope”, resulting in “alope”. animal ← Concat(Substring(“jackrabbit”, 1, 4), animal) would take the substring “jack” from “jackrabbit” and then concatenate it with “alope” resulting in “jackalope”.\n",
    "\n",
    "The process outlined in Answer B does indeed result in the string “jackalope”, with the first step isolating “lope” from “antelope”, the second step creating the string “alope” by prepending “a” to “lope”, and the final step creating the correct string by prepending “jack” to “alope”.\n",
    "\n",
    "animal ← Substring(“antelope”, 5, 4) would assign the substring “lope” from “antelope” to the variable animal. animal ← Concat(“a”, animal) would then prepend “a” to “lope”, resulting in “alope”. animal ← Concat(Substring(“jackrabbit”, 1, 4), animal) would take the substring “jack” from “jackrabbit” and then concatenate it with “alope” resulting in “jackalope”.\n",
    "\n",
    "The process outlined in Answer B does indeed result in the string “jackalope”, with the first step isolating “lope” from “antelope”, the second step creating the string “alope” by prepending “a” to “lope”, and the final step creating the correct string by prepending “jack” to “alope”."
   ]
  },
  {
   "cell_type": "code",
   "execution_count": 10,
   "metadata": {},
   "outputs": [
    {
     "name": "stdout",
     "output_type": "stream",
     "text": [
      "lopejacka\n"
     ]
    }
   ],
   "source": [
    "# Incorrect Answer D\n",
    "# as a popcorn hack (binary challenge), create string and concatenation options for A, B, C\n",
    " \n",
    "animal = \"jackrabbit\"[0:4]  # Substring(\"jackrabbit\", 1, 4)\n",
    "animal += \"a\"  # Concat(animal, \"a\")\n",
    "animal = \"antelope\"[4:8] + animal  # Concat(Substring(\"antelope\", 5, 4), animal)\n",
    "print(animal)  # Outputs: lopejacka"
   ]
  },
  {
   "cell_type": "markdown",
   "metadata": {},
   "source": [
    "### Popcorn hacks for string manipulation:"
   ]
  },
  {
   "cell_type": "code",
   "execution_count": 5,
   "metadata": {},
   "outputs": [
    {
     "name": "stdout",
     "output_type": "stream",
     "text": [
      "lope\n",
      "lopea\n",
      "jacklopea\n",
      "lope\n",
      "alope\n",
      "jackalope\n",
      "jack\n",
      "jacka\n",
      "jackalope\n"
     ]
    }
   ],
   "source": [
    "def concat(str1, str2):\n",
    "    return str1 + str2\n",
    "\n",
    "def substring(string, start, length):\n",
    "    return string[start - 1:start - 1 + length]\n",
    "\n",
    "# Concatenation for option A\n",
    "# Given input\n",
    "animal = substring(\"antelope\", 5, 4)\n",
    "print(animal)  # Output: \"lope\"\n",
    "\n",
    "animal = concat(animal, \"a\")\n",
    "print(animal)  # Output: \"lopea\"\n",
    "\n",
    "animal = concat(substring(\"jackrabbit\", 1, 4), animal)\n",
    "print(animal)  # Output: \"jacklopea\"\n",
    "\n",
    "# Concatenation for option B\n",
    "# Given input\n",
    "animal = substring(\"antelope\", 5, 4)\n",
    "print(animal)  # Output: \"lope\"\n",
    "\n",
    "animal = concat(\"a\", animal)\n",
    "print(animal)  # Output: \"alope\"\n",
    "\n",
    "animal = concat(substring(\"jackrabbit\", 1, 4), animal)\n",
    "print(animal)  # Output: \"jackalope\"\n",
    "\n",
    "# Concatenation for option C\n",
    "# Given input\n",
    "animal = substring(\"jackrabbit\", 1, 4)\n",
    "print(animal)  # Output: \"jack\"\n",
    "\n",
    "animal = concat(animal, \"a\")\n",
    "print(animal)  # Output: \"jacka\"\n",
    "\n",
    "animal = concat(animal, substring(\"antelope\", 5, 4))\n",
    "print(animal)  # Output: \"jackalope\""
   ]
  }
 ],
 "metadata": {
  "kernelspec": {
   "display_name": "Python 3",
   "language": "python",
   "name": "python3"
  },
  "language_info": {
   "codemirror_mode": {
    "name": "ipython",
    "version": 3
   },
   "file_extension": ".py",
   "mimetype": "text/x-python",
   "name": "python",
   "nbconvert_exporter": "python",
   "pygments_lexer": "ipython3",
   "version": "3.10.12"
  },
  "orig_nbformat": 4
 },
 "nbformat": 4,
 "nbformat_minor": 2
}
