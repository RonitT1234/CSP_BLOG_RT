{
 "cells": [
  {
   "cell_type": "markdown",
   "metadata": {},
   "source": [
    "---\n",
    "comments: true\n",
    "layout: post\n",
    "title: Boolean and If\n",
    "description: Popcorn Hacks + Homework\n",
    "type: hacks\n",
    "courses: { compsci: {week: 7} }\n",
    "---\n",
    "\n",
    "# Popcorn Hacks"
   ]
  },
  {
   "cell_type": "code",
   "execution_count": 5,
   "metadata": {},
   "outputs": [
    {
     "name": "stdout",
     "output_type": "stream",
     "text": [
      "Your first number is bigger\n"
     ]
    }
   ],
   "source": [
    "# Popcorn Hack 1 \n",
    "user1 = int(input(\"Enter your first number\"))\n",
    "user2 = int(input(\"Enter your second number\"))\n",
    "\n",
    "if user1 > user2:\n",
    "    print(\"Your first number is bigger\")\n",
    "elif user1 < user2:\n",
    "    print(\"Your second number is bigger\")\n",
    "else:\n",
    "    print(\"Both numbers are equal\")"
   ]
  },
  {
   "cell_type": "code",
   "execution_count": 9,
   "metadata": {},
   "outputs": [
    {
     "name": "stdout",
     "output_type": "stream",
     "text": [
      "Todays a good day to go the beach!\n"
     ]
    }
   ],
   "source": [
    "#Popcorn Hack 2 \n",
    "\n",
    "weather= int(input(\"Type 1 if it is sunny, Type 2 if it is raining\"))\n",
    "temperature = int(input(\"Type 1 if it is hot, Type 2 if it is cold \"))\n",
    "\n",
    "if weather and temperature == 1:\n",
    "    print(\"Todays a good day to go the beach!\")\n",
    "else:\n",
    "    print(\"Today is a bad day to go the beach. \")"
   ]
  },
  {
   "cell_type": "code",
   "execution_count": 18,
   "metadata": {},
   "outputs": [
    {
     "name": "stdout",
     "output_type": "stream",
     "text": [
      "A is true\n"
     ]
    }
   ],
   "source": [
    "#Popcorn Hack 3 \n",
    "\n",
    "A = True\n",
    "\n",
    "if  not A:\n",
    "    print(\"A if alse\")\n",
    "    \n",
    "if not False:\n",
    "    print(\"A is true\")"
   ]
  },
  {
   "cell_type": "code",
   "execution_count": 22,
   "metadata": {},
   "outputs": [
    {
     "name": "stdout",
     "output_type": "stream",
     "text": [
      "test 1:\n",
      "xored\n",
      "test 2:\n",
      "not xored\n"
     ]
    }
   ],
   "source": [
    "#Popcorn Hack 4 \n",
    "print(\"test 1:\")\n",
    "\n",
    "A = True\n",
    "B = False\n",
    "\n",
    "if A ^ B:\n",
    "    print(\"xored\")\n",
    "else:\n",
    "    print(\"not xored\")\n",
    "    \n",
    " \n",
    "print(\"test 2:\")\n",
    "\n",
    "A = False\n",
    "B = False\n",
    "\n",
    "if A ^ B:\n",
    "    print(\"xored\")\n",
    "else:\n",
    "    print(\"not xored\")"
   ]
  },
  {
   "cell_type": "markdown",
   "metadata": {},
   "source": [
    "# Homework"
   ]
  },
  {
   "cell_type": "code",
   "execution_count": null,
   "metadata": {},
   "outputs": [],
   "source": [
    "#Hack 1\n",
    "\n",
    "#XNOR Table"
   ]
  },
  {
   "cell_type": "markdown",
   "metadata": {},
   "source": [
    "| A | B | Output |\n",
    "|----------|----------|----------|\n",
    "| 0 | 0 | 1 |\n",
    "| 0 | 1 | 0 |\n",
    "| 1 | 0 | 0 |\n",
    "| 1 | 1 | 1 |"
   ]
  },
  {
   "cell_type": "code",
   "execution_count": 3,
   "metadata": {},
   "outputs": [
    {
     "name": "stdout",
     "output_type": "stream",
     "text": [
      "True Dat\n"
     ]
    }
   ],
   "source": [
    "#Hack 2 \n",
    "\n",
    "#Logic Gate 1: Or\n",
    "\n",
    "A = True\n",
    "B = False\n",
    "\n",
    "if A or B:\n",
    "    print(\"True Dat\")\n",
    "    \n",
    "\n"
   ]
  },
  {
   "cell_type": "code",
   "execution_count": 4,
   "metadata": {},
   "outputs": [
    {
     "name": "stdout",
     "output_type": "stream",
     "text": [
      "Todays a good day to go the beach!\n"
     ]
    }
   ],
   "source": [
    "    \n",
    "# Logic Gate 2: AND (with purpose)\n",
    "weather= int(input(\"Type 1 if it is sunny, Type 2 if it is raining\"))\n",
    "temperature = int(input(\"Type 1 if it is hot, Type 2 if it is cold \"))\n",
    "\n",
    "if weather and temperature == 1:\n",
    "    print(\"Todays a good day to go the beach!\")\n",
    "else:\n",
    "    print(\"Today is a bad day to go the beach. \")\n",
    "    "
   ]
  },
  {
   "cell_type": "code",
   "execution_count": 6,
   "metadata": {},
   "outputs": [
    {
     "name": "stdout",
     "output_type": "stream",
     "text": [
      "Todays a good day to have some fun!\n"
     ]
    }
   ],
   "source": [
    "#Logic Gate 3: XOR (with purpose)\n",
    "\n",
    "one= int(input(\"Type 1 if you want to watch a movie, Type 2 if you want to do chem homework\"))\n",
    "two = int(input(\"Type 1 if you want to play fortnite, Type 2 if you want to write an essay\"))\n",
    "\n",
    "if one ^ two:\n",
    "    print(\"Todays a good day to have some fun!\")\n",
    "else:\n",
    "    print(\"BOoo!\")"
   ]
  },
  {
   "cell_type": "code",
   "execution_count": 10,
   "metadata": {},
   "outputs": [
    {
     "name": "stdout",
     "output_type": "stream",
     "text": [
      "Complete\n",
      "Incomplete\n",
      "Incomplete\n",
      "Complete\n",
      "Incomplete\n",
      "Complete\n",
      "{'Student 1': 'Complete', 'Student 2': 'Incomplete', 'Student 3': 'Incomplete', 'Student 4': 'Complete', 'Student 5': 'Incomplete', 'Student 6': 'Complete'}\n"
     ]
    }
   ],
   "source": [
    "\n",
    "#Hack 3 Bob Grading stuff\n",
    "# i used two logic gates (and twice)\n",
    "isComplete = {'Student 1': 1, 'Student 2': 1, 'Student 3': 0, 'Student 4': 1, 'Student 5': 0, 'Student 6': 1}\n",
    "isOnTime = {'Student 1': 1, 'Student 2': 0, 'Student 3': 0, 'Student 4': 1, 'Student 5': 1, 'Student 6': 1}\n",
    "\n",
    "homework = {'Student 1': '', 'Student 2': '', 'Student 3': '', 'Student 4': '', 'Student 5': '', 'Student 6': '' }\n",
    "\n",
    "for student in isComplete and isOnTime:\n",
    "    if (isComplete[student] and isOnTime[student]):\n",
    "        print(\"Complete\")\n",
    "        homework[student]='Complete'\n",
    "    else:\n",
    "        print(\"Incomplete\")\n",
    "        homework[student]='Incomplete'\n",
    "\n",
    "print(homework)\n",
    "\n",
    "## Example output: {'Student 1': 'Incomplete', 'Student 2': 'Incomplete', 'Student 3': 'Incomplete', 'Student 4': 'Incomplete', 'Student 5': 'Incomplete', 'Student 6', 'Complete'}\n",
    "## Extra: Format the output nicely"
   ]
  }
 ],
 "metadata": {
  "kernelspec": {
   "display_name": "Python 3",
   "language": "python",
   "name": "python3"
  },
  "language_info": {
   "codemirror_mode": {
    "name": "ipython",
    "version": 3
   },
   "file_extension": ".py",
   "mimetype": "text/x-python",
   "name": "python",
   "nbconvert_exporter": "python",
   "pygments_lexer": "ipython3",
   "version": "3.10.12"
  }
 },
 "nbformat": 4,
 "nbformat_minor": 2
}
