{
 "cells": [
  {
   "cell_type": "markdown",
   "metadata": {},
   "source": [
    "# Program Function and Purpose"
   ]
  },
  {
   "cell_type": "code",
   "execution_count": 15,
   "metadata": {},
   "outputs": [
    {
     "name": "stdout",
     "output_type": "stream",
     "text": [
      "Your number is greater than 3!\n"
     ]
    }
   ],
   "source": [
    "#Program with an Output\n",
    "i = 4\n",
    "\n",
    "if i >= 3:\n",
    "    print(\"Your number is greater than 3!\")"
   ]
  },
  {
   "cell_type": "code",
   "execution_count": 28,
   "metadata": {},
   "outputs": [
    {
     "name": "stdout",
     "output_type": "stream",
     "text": [
      "Group:  ['Ronit', 'Vance', 'Jared ', 'Ashwin'] Type:  <class 'list'> length:  4\n"
     ]
    }
   ],
   "source": [
    "# Program with a list\n",
    "\n",
    "list = [\"Ronit\", \"Vance\", \"Jared \", \"Ashwin\"] \n",
    "\n",
    "print(\"Group: \", list, 'Type: ', type(list), \"length: \", len(list) )"
   ]
  },
  {
   "cell_type": "code",
   "execution_count": 36,
   "metadata": {},
   "outputs": [
    {
     "name": "stdout",
     "output_type": "stream",
     "text": [
      "[{'Name': 'Ronit', 'Class': 'CSP'}, {'Name': 'Vance', 'Class': 'CSP'}, {'Name': 'Ashwin', 'Class': 'CSP'}, {'Name': 'Jared', 'Class': 'CSP'}]\n"
     ]
    }
   ],
   "source": [
    "# Program with a Dictionary\n",
    "\n",
    "Team =[]\n",
    "\n",
    "Team.append({\n",
    "    \"Name\" : \"Ronit\",\n",
    "    \"Class\" : \"CSP\",\n",
    "    \n",
    "})\n",
    "Team.append({\n",
    "    \"Name\" : \"Vance\",\n",
    "    \"Class\" : \"CSP\",\n",
    "    \n",
    "})\n",
    "Team.append({\n",
    "    \"Name\" : \"Ashwin\",\n",
    "    \"Class\" : \"CSP\",\n",
    "    \n",
    "})\n",
    "Team.append({\n",
    "    \"Name\": \"Jared\",\n",
    "    \"Class\" : \"CSP\",\n",
    "    \n",
    "})\n",
    "print(Team)"
   ]
  },
  {
   "cell_type": "code",
   "execution_count": 47,
   "metadata": {},
   "outputs": [
    {
     "name": "stdout",
     "output_type": "stream",
     "text": [
      "This cycle number:  1\n",
      "This cycle number:  2\n",
      "This cycle number:  3\n"
     ]
    }
   ],
   "source": [
    "#Program with Iteration\n",
    "\n",
    "repeat=3\n",
    "\n",
    "for i in range(repeat):\n",
    "    print(\"This cycle number: \", i+1)"
   ]
  },
  {
   "cell_type": "code",
   "execution_count": 54,
   "metadata": {},
   "outputs": [
    {
     "name": "stdout",
     "output_type": "stream",
     "text": [
      "adding: 2\n",
      "subtracting: 0\n",
      "Multiplying: 1\n",
      "Dividing: 1.0\n",
      "Remainder: 0\n"
     ]
    }
   ],
   "source": [
    "#Program with a Function to preform mathematical and/or a statistical calculation\n",
    "number_one = 1\n",
    "number_two = 1\n",
    "\n",
    "print(\"adding: \" + str((number_one+number_two )))\n",
    "print(\"subtracting: \" + str((number_one-number_two)))\n",
    "print(\"Multiplying: \" + str((number_one*number_two)))\n",
    "print(\"Dividing: \" + str((number_one/number_two)))\n",
    "print(\"Remainder: \" + str((number_one%number_two)))"
   ]
  },
  {
   "cell_type": "code",
   "execution_count": 58,
   "metadata": {},
   "outputs": [
    {
     "name": "stdout",
     "output_type": "stream",
     "text": [
      "Your number is greater than 3!\n"
     ]
    }
   ],
   "source": [
    "#Program with Selection/Condition\n",
    "\n",
    "i = 15\n",
    "\n",
    "if i >= 10:\n",
    "    print(\"Your number is greater than 3!\")\n",
    "    \n",
    "elif i <= 10:\n",
    "    print(\"Your number is less than 3!\")  \n",
    "else:\n",
    "    print(\"Your number is 10\")"
   ]
  },
  {
   "cell_type": "code",
   "execution_count": 62,
   "metadata": {},
   "outputs": [
    {
     "name": "stdout",
     "output_type": "stream",
     "text": [
      "The area of the rectangle with length 7.4 and width 3.4 is 25.16. Unit is inches.\n"
     ]
    }
   ],
   "source": [
    "#Program with Purpose\n",
    "\n",
    "length = 7.4\n",
    "width = 3.4\n",
    "units = \"inches\"\n",
    "\n",
    "area = length * width\n",
    "\n",
    "\n",
    "print(f\"The area of the rectangle with length {length} and width {width} is {area}. Unit is {units}.\")"
   ]
  },
  {
   "cell_type": "markdown",
   "metadata": {},
   "source": [
    "# Identifying and Correcting Errors"
   ]
  },
  {
   "cell_type": "code",
   "execution_count": 1,
   "metadata": {},
   "outputs": [
    {
     "name": "stdout",
     "output_type": "stream",
     "text": [
      "Test case 1 passed\n",
      "Test case 2 passed\n",
      "Test case 3 passed\n"
     ]
    }
   ],
   "source": [
    "\n",
    "# Functino that will be tested\n",
    "def add(a, b):\n",
    "    return a + b\n",
    "\n",
    "# Creating a testing function\n",
    "def test_add_function():\n",
    "    # Test case 1: Positive numbers\n",
    "    result = add(2, 3)\n",
    "    expected = 5\n",
    "    #Check to see if output is correct\n",
    "    if result == expected:\n",
    "        #Prints if actual output matches the expected output\n",
    "        print(\"Test case 1 passed\")\n",
    "    else:\n",
    "        #Prints if actual ouput does not match the expected output\n",
    "        print(f\"Test case 1 failed. Expected {expected}, but got {result}\")\n",
    "        \n",
    "        \n",
    "\n",
    "    # Test case 2: Negative numbers\n",
    "    result = add(-2, -3)\n",
    "    expected = -5  \n",
    "    #Check to see if output is correct\n",
    "    if result == expected:\n",
    "        print(\"Test case 2 passed\")\n",
    "    else:\n",
    "        print(f\"Test case 2 failed. Expected {expected}, but got {result}\")\n",
    "        \n",
    "        \n",
    "\n",
    "    # Test case 3: Mixed numbers\n",
    "    result = add(5, -3)\n",
    "    expected = 2\n",
    "    #Check to see if output is correct\n",
    "    if result == expected:\n",
    "        print(\"Test case 3 passed\")\n",
    "    else:\n",
    "        print(f\"Test case 3 failed. Expected {expected}, but got {result}\")\n",
    "\n",
    "# Running the overall function\n",
    "test_add_function()"
   ]
  }
 ],
 "metadata": {
  "kernelspec": {
   "display_name": "Python 3 (ipykernel)",
   "language": "python",
   "name": "python3"
  },
  "language_info": {
   "codemirror_mode": {
    "name": "ipython",
    "version": 3
   },
   "file_extension": ".py",
   "mimetype": "text/x-python",
   "name": "python",
   "nbconvert_exporter": "python",
   "pygments_lexer": "ipython3",
   "version": "3.10.12"
  }
 },
 "nbformat": 4,
 "nbformat_minor": 2
}
