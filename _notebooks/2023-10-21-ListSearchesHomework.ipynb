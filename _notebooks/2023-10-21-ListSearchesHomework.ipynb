{
 "cells": [
  {
   "cell_type": "markdown",
   "metadata": {},
   "source": [
    "---\n",
    "toc: true\n",
    "comments: false\n",
    "layout: post\n",
    "title: List+searches homework\n",
    "description: College List+searches homework\n",
    "courses: { compsci: {week: 7} }\n",
    "type: tangibles\n",
    "---"
   ]
  },
  {
   "cell_type": "code",
   "execution_count": 2,
   "metadata": {},
   "outputs": [
    {
     "name": "stdout",
     "output_type": "stream",
     "text": [
      "The Element is in index 2\n"
     ]
    }
   ],
   "source": [
    "#Base Code\n",
    "def binary_search(arr, low, high, x):\n",
    " \n",
    "    if high >= low:\n",
    " \n",
    "        mid = (high + low) // 2\n",
    " \n",
    "        if arr[mid] == x:\n",
    "            return mid\n",
    " \n",
    "        elif arr[mid] > x:\n",
    "            return binary_search(arr, low, mid - 1, x)\n",
    "        else:\n",
    "            return binary_search(arr, mid + 1, high, x)\n",
    " \n",
    "    else:\n",
    "        return -1\n",
    " \n",
    "arr = [12, 23, 25, 45, 47, 89, 91]\n",
    "\n",
    "x = 25\n",
    " \n",
    "result = binary_search(arr, 0, len(arr)-1, x)\n",
    " \n",
    "if result != -1:\n",
    "    print(\"The Element is in index\", str(result))\n",
    "else:\n",
    "    print(\"Element is not present in array\")"
   ]
  },
  {
   "cell_type": "code",
   "execution_count": 3,
   "metadata": {},
   "outputs": [
    {
     "name": "stdout",
     "output_type": "stream",
     "text": [
      "The element 25 is at index 2 after 2 iterations.\n"
     ]
    }
   ],
   "source": [
    "#Extra Info Version\n",
    "def binary_search(arr, low, high, x, count=0):\n",
    "    if high >= low:\n",
    "        mid = (high + low) // 2\n",
    "\n",
    "        if arr[mid] == x:\n",
    "            return mid, count\n",
    "\n",
    "        elif arr[mid] > x:\n",
    "            return binary_search(arr, low, mid - 1, x, count + 1)\n",
    "        else:\n",
    "            return binary_search(arr, mid + 1, high, x, count + 1)\n",
    "\n",
    "    else:\n",
    "        return -1, count\n",
    "\n",
    "arr = [12, 23, 25, 45, 47, 89, 91]\n",
    "x = 25\n",
    "\n",
    "result, count = binary_search(arr, 0, len(arr) - 1, x)\n",
    "\n",
    "if result != -1:\n",
    "    print(f\"The element {x} is at index {result} after {count} iterations.\")\n",
    "else:\n",
    "    print(\"Element is not present in the array.\")"
   ]
  }
 ],
 "metadata": {
  "kernelspec": {
   "display_name": "Python 3",
   "language": "python",
   "name": "python3"
  },
  "language_info": {
   "codemirror_mode": {
    "name": "ipython",
    "version": 3
   },
   "file_extension": ".py",
   "mimetype": "text/x-python",
   "name": "python",
   "nbconvert_exporter": "python",
   "pygments_lexer": "ipython3",
   "version": "3.10.12"
  }
 },
 "nbformat": 4,
 "nbformat_minor": 2
}
