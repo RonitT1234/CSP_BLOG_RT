{
 "cells": [
  {
   "cell_type": "markdown",
   "metadata": {},
   "source": [
    "---\n",
    "toc: true\n",
    "comments: false\n",
    "layout: post\n",
    "title: REFLECTION CollegeBoard 2018 Practice MC\n",
    "description: CollegeBoard Reflection\n",
    "courses: { compsci: {week: 8} }\n",
    "type: tangibles\n",
    "---"
   ]
  },
  {
   "cell_type": "markdown",
   "metadata": {},
   "source": [
    "# Reflection:\n",
    "\n",
    "The CollegeBoard Problems were not too difficult, but more tricky. There was less directly involved coding problems than I though there would be. Lots of theory and real-world application problems were there compared to actual programming."
   ]
  },
  {
   "cell_type": "markdown",
   "metadata": {},
   "source": [
    "# Things to Review:\n",
    "\n",
    "1. Binary\n",
    "2. Pseudo Code\n",
    "3. IPv4 vs IPv6 adressing"
   ]
  },
  {
   "cell_type": "markdown",
   "metadata": {},
   "source": [
    "# Binary\n",
    "<iframe width=\"560\" height=\"315\" src=\"https://www.youtube.com/embed/I9LBXmbB9iw?si=qURXgAt59aUtGbF0\" title=\"YouTube video player\" frameborder=\"0\" allow=\"accelerometer; autoplay; clipboard-write; encrypted-media; gyroscope; picture-in-picture; web-share\" allowfullscreen></iframe>\n",
    "\n",
    "## Notes\n",
    "\n",
    "- Binary is a base-2 numbering system consisting of 0s and 1s, fundamental in computer systems.\n",
    "- Bits are the smallest units of data in computers, representing values as either 0 or 1.\n",
    "- Understanding binary place value is crucial for conversions and performing arithmetic operations.\n",
    "\n",
    "![binary counting](https://media.discordapp.net/attachments/795744270732099634/1171160390609162310/binary.jpg?ex=655bab1c&is=6549361c&hm=442c1dad062ff7221f0b78c85871911a008782fe4b3ea28736ddd937f5cd764c&=&width=718&height=556 'binary counting')\n"
   ]
  },
  {
   "cell_type": "markdown",
   "metadata": {},
   "source": [
    "# Psuedo Code\n",
    "[![pseudo code](https://media.discordapp.net/attachments/795744270732099634/1171160390009364550/pseudo_code.png?ex=655bab1c&is=6549361c&hm=4618242153698d2610a97c4da4416f5013bbbeb9487abf234f8e73bc001bb12f&=&width=718&height=325 'pseudo code')](https://d1qmdf3vop2l07.cloudfront.net/new-violin.cloudvent.net/compressed/b1d2367f596074cb9a7761a1be59f6e7.pdf)\n",
    "\n",
    "## Notes\n",
    "\n",
    "- Pseudocode: Pseudocode is a way to represent an algorithm using a mix of natural language and simplified programming constructs. It's used to describe the logic of a program without writing full code.\n",
    "- Variables: Variables can be declared using simple names, and their values can be assigned and manipulated within pseudocode.\n",
    "- Loops: Pseudocode allows the description of loops and repetitions, such as \"REPEAT UNTIL\" and \"REPEAT n TIMES,\" to control program flow."
   ]
  },
  {
   "cell_type": "code",
   "execution_count": null,
   "metadata": {
    "vscode": {
     "languageId": "plaintext"
    }
   },
   "outputs": [],
   "source": [
    "#REPEAT and IF\n",
    "REPEAT n TIMES\n",
    "    IF condition THEN\n",
    "        // Code block\n",
    "    END IF\n",
    "END REPEAT"
   ]
  },
  {
   "cell_type": "code",
   "execution_count": null,
   "metadata": {
    "vscode": {
     "languageId": "plaintext"
    }
   },
   "outputs": [],
   "source": [
    "#FUNCTION\n",
    "FUNCTION calculateSum(a, b)\n",
    "    // Code code code\n",
    "END FUNCTION"
   ]
  },
  {
   "cell_type": "code",
   "execution_count": null,
   "metadata": {
    "vscode": {
     "languageId": "plaintext"
    }
   },
   "outputs": [],
   "source": [
    "DECLARE list[]\n",
    "ADD item TO list\n",
    "FOR EACH item IN list\n",
    "    // Code code code\n",
    "END FOR"
   ]
  },
  {
   "cell_type": "markdown",
   "metadata": {},
   "source": [
    "# IPv4 vs IPv6\n",
    "<iframe width=\"560\" height=\"315\" src=\"https://www.youtube.com/embed/aor29pGhlFE?si=h3d-VODJE4DUB3rT\" title=\"YouTube video player\" frameborder=\"0\" allow=\"accelerometer; autoplay; clipboard-write; encrypted-media; gyroscope; picture-in-picture; web-share\" allowfullscreen></iframe>\n",
    "\n",
    "## Notes\n",
    "\n",
    "| Feature                 | IPv4                    | IPv6                      |\n",
    "|-------------------------|-------------------------|---------------------------|\n",
    "| Address Length          | 32 bits                 | 128 bits                  |\n",
    "| Address Type            | 4 sets of numbers       | Mix of numbers and letters |\n",
    "| Number of Addresses     | Running low             | Lots and lots              |\n",
    "| Easy Subnetting         | Takes some work         | Easier to set up networks  |\n",
    "| Automatic Address Setup | Mostly manual (DHCP)    | Addresses can set up themselves |\n",
    "| Broadcast               | Supports broadcast      | No more broadcast, just multicast |\n",
    "| Security                | Added separately (IPsec)| Built-in security features |"
   ]
  }
 ],
 "metadata": {
  "language_info": {
   "name": "python"
  }
 },
 "nbformat": 4,
 "nbformat_minor": 2
}
