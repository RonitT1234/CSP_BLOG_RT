{
 "cells": [
  {
   "cell_type": "markdown",
   "metadata": {},
   "source": [
    "---\n",
    "comments: true\n",
    "layout: post\n",
    "title: Algorithms \n",
    "description: Popcorn Hacks + Homework\n",
    "type: hacks\n",
    "courses: { compsci: {week: 6} }\n",
    "---"
   ]
  },
  {
   "cell_type": "markdown",
   "metadata": {},
   "source": [
    "# Popcorn Hacks"
   ]
  },
  {
   "cell_type": "code",
   "execution_count": 12,
   "metadata": {},
   "outputs": [
    {
     "name": "stdout",
     "output_type": "stream",
     "text": [
      "for x =1, y is=5\n",
      "for x =2, y is=8\n",
      "for x =3, y is=11\n"
     ]
    }
   ],
   "source": [
    "#Popcorn Hack 1\n",
    "\n",
    "x_values = [1,2,3]\n",
    "\n",
    "for x in x_values:\n",
    "    func1=x+2\n",
    "    func2=3*func1\n",
    "    func3=func2-4\n",
    "    print(\"for x =\" +str(x) + \", y is=\" + str(func3))"
   ]
  },
  {
   "cell_type": "code",
   "execution_count": 15,
   "metadata": {},
   "outputs": [
    {
     "name": "stdout",
     "output_type": "stream",
     "text": [
      "The code above will print: 103\n"
     ]
    }
   ],
   "source": [
    "#Popcorn Hack 2\n",
    "\n",
    "#num1 = 20\n",
    "#num2 = num1 /2 \n",
    "#num3 = num2 * 10 + 3\n",
    "#print(num3)\n",
    "\n",
    "print(\"The code above will print: \" + str(103))"
   ]
  },
  {
   "cell_type": "code",
   "execution_count": 17,
   "metadata": {},
   "outputs": [
    {
     "name": "stdout",
     "output_type": "stream",
     "text": [
      "115.5\n"
     ]
    }
   ],
   "source": [
    "#Popcorn Hack 3\n",
    "\n",
    "num1=int(input(\"Enter a number: \"))\n",
    "\n",
    "num2 = num1 /2 \n",
    "num3 = num2 * 15 + 3\n",
    "num4 = num3 % 5\n",
    "num5 = num4\n",
    "\n",
    "print(num3)"
   ]
  },
  {
   "cell_type": "code",
   "execution_count": 22,
   "metadata": {},
   "outputs": [
    {
     "name": "stdout",
     "output_type": "stream",
     "text": [
      "5\n",
      "RonitThomas\n",
      "3rd through 6th letters are: \n",
      "nitT\n"
     ]
    }
   ],
   "source": [
    "# Popcorn Hack 4\n",
    "\n",
    "name_len = len(\"Ronit\")\n",
    "print(name_len)\n",
    "\n",
    "\n",
    "full_name = \"Ronit\" + \"Thomas\"\n",
    "print (full_name)\n",
    "\n",
    "substring = full_name[2:6]\n",
    "print(\"3rd through 6th letters are: \")\n",
    "print (substring)\n"
   ]
  },
  {
   "cell_type": "code",
   "execution_count": null,
   "metadata": {},
   "outputs": [],
   "source": [
    "# Robot Style AP Problem\n",
    "\n",
    "#move_forward()\n",
    "#move_forward()\n",
    "#move_forward()\n",
    "#rotate_left()\n",
    "#move_forward()\n",
    "#move_forward()\n",
    "#rotate_right()\n",
    "#move_forward()\n",
    "#move_forward()\n",
    "#move_forward()"
   ]
  },
  {
   "cell_type": "markdown",
   "metadata": {},
   "source": [
    "# Homework"
   ]
  },
  {
   "cell_type": "code",
   "execution_count": 43,
   "metadata": {},
   "outputs": [
    {
     "name": "stdout",
     "output_type": "stream",
     "text": [
      "[0, 1, 1, 2, 3, 5, 8, 13, 21, 34, 55, 89, 144, 233, 377, 610, 987, 1597, 2584, 4181, 6765, 10946, 17711, 28657, 46368, 75025]\n",
      "Index #15 is: 610\n"
     ]
    }
   ],
   "source": [
    "#Use an algorithm to find certain values of the Fibonacci sequence. For example, your code should output the nth index in the sequence. An example of how the sequence works is 0,1,1,2,3,5,8,13. The pattern is you add the previous 2 numbers together to get the new number. \\\n",
    "# 0,1,1,2,3,5,8,13\n",
    "\n",
    "sequence = [0, 1] \n",
    "\n",
    "user = int(input(\"How numbers do you want in your sequence?\"))\n",
    "\n",
    "for i in range(0,user):\n",
    "    next_fib = sequence[-1] + sequence[-2]\n",
    "    sequence.append(next_fib)\n",
    "\n",
    "print(sequence)\n",
    "\n",
    "user = int(input(\"What index of the sequence do you want to print?\"))\n",
    "print(\"Index #\"  + str(user) + \" is: \" + str(sequence[user]))"
   ]
  }
 ],
 "metadata": {
  "kernelspec": {
   "display_name": "Python 3",
   "language": "python",
   "name": "python3"
  },
  "language_info": {
   "codemirror_mode": {
    "name": "ipython",
    "version": 3
   },
   "file_extension": ".py",
   "mimetype": "text/x-python",
   "name": "python",
   "nbconvert_exporter": "python",
   "pygments_lexer": "ipython3",
   "version": "3.10.12"
  },
  "orig_nbformat": 4
 },
 "nbformat": 4,
 "nbformat_minor": 2
}
