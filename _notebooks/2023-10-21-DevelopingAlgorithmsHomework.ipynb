{
 "cells": [
  {
   "cell_type": "markdown",
   "metadata": {},
   "source": [
    "---\n",
    "toc: true\n",
    "comments: false\n",
    "layout: post\n",
    "title: Developing Algoritms Homework\n",
    "description: College Board Big Idea 3, Idea 9, Developing Algorithms\n",
    "courses: { compsci: {week: 5} }\n",
    "type: hacks\n",
    "---"
   ]
  },
  {
   "cell_type": "code",
   "execution_count": null,
   "metadata": {},
   "outputs": [],
   "source": []
  },
  {
   "cell_type": "markdown",
   "metadata": {},
   "source": [
    "# Homework\n",
    "\n",
    "- Create an algorithm that uses selection and/or iteration that will represent one player's turn in a game. \n",
    "\n",
    "- During a turn, each player gets 4 attempts/chances to get the greates number possible. \n",
    "\n",
    "- During each attempt the player will use a random number generator to select a random number 1-10. \n",
    "\n",
    "- After the player has had 4 chances, their score is the greatest number they receieved from the random number generator, and their turn is over. "
   ]
  },
  {
   "cell_type": "markdown",
   "metadata": {},
   "source": [
    "Use the following flowchart to assist you: \n",
    "\n",
    "| <img src=\"https://i.ibb.co/ZBFgwn2/Screen-Shot-2023-10-15-at-7-40-22-PM.png\" width = 600px height = auto > "
   ]
  },
  {
   "cell_type": "code",
   "execution_count": 11,
   "metadata": {},
   "outputs": [
    {
     "name": "stdout",
     "output_type": "stream",
     "text": [
      "6\n",
      "8\n",
      "8\n",
      "9\n",
      "9\n"
     ]
    }
   ],
   "source": [
    "#BASE VERSION\n",
    "import random\n",
    "attempts=0 \n",
    "score=0 \n",
    "\n",
    "while attempts <=4:\n",
    "    random_number = random.randint(1, 10)\n",
    "    temp_score=random_number\n",
    "    if temp_score > score:\n",
    "        score=temp_score\n",
    "        attempts=attempts+1\n",
    "        print(score)\n",
    "    else:\n",
    "        attempts=attempts+1\n",
    "        print(score)"
   ]
  },
  {
   "cell_type": "code",
   "execution_count": 20,
   "metadata": {},
   "outputs": [
    {
     "name": "stdout",
     "output_type": "stream",
     "text": [
      "COOL GAEM RIGHT HERE\n",
      "You have only5 attempts so get a good score\n",
      "Attempt 1: Random Number: 8\n",
      "New High Score: 8\n",
      "Attempt 2: Random Number: 8\n",
      "Attempt 3: Random Number: 9\n",
      "New High Score: 9\n",
      "Attempt 4: Random Number: 6\n",
      "Attempt 5: Random Number: 3\n",
      "Game Over! Your super dooper dopper final score is: 9\n"
     ]
    }
   ],
   "source": [
    "#EXTRA VERISION\n",
    "max_attempts = 5\n",
    "score = 0\n",
    "\n",
    "print(\"COOL GAEM RIGHT HERE\")\n",
    "print(f\"You have only{max_attempts} attempts so get a good score\")\n",
    "\n",
    "for attempts in range(1, max_attempts + 1):\n",
    "    random_number = random.randint(1, 10)\n",
    "    print(f\"Attempt {attempts}: Random Number: {random_number}\")\n",
    "    \n",
    "    if random_number > score:\n",
    "        score = random_number\n",
    "        print(f\"New High Score: {score}\")\n",
    "\n",
    "print(f\"Game Over! Your super dooper dopper final score is: {score}\")\n"
   ]
  }
 ],
 "metadata": {
  "kernelspec": {
   "display_name": "Python 3",
   "language": "python",
   "name": "python3"
  },
  "language_info": {
   "codemirror_mode": {
    "name": "ipython",
    "version": 3
   },
   "file_extension": ".py",
   "mimetype": "text/x-python",
   "name": "python",
   "nbconvert_exporter": "python",
   "pygments_lexer": "ipython3",
   "version": "3.10.12"
  }
 },
 "nbformat": 4,
 "nbformat_minor": 2
}
