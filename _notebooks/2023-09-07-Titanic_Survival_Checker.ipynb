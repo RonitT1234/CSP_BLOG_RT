{
 "cells": [
  {
   "cell_type": "markdown",
   "metadata": {},
   "source": [
    "---\n",
    "toc: True\n",
    "comments: True\n",
    "title: Would you Survive?\n",
    "layout: default\n",
    "description: See if your make-believe character would survive the titanic!\n",
    "tags: [python]\n",
    "courses: { compsci: {week: 3} }\n",
    "type: hacks\n",
    "---\n"
   ]
  },
  {
   "cell_type": "code",
   "execution_count": 1,
   "metadata": {},
   "outputs": [
    {
     "name": "stdout",
     "output_type": "stream",
     "text": [
      "Moving on\n"
     ]
    }
   ],
   "source": [
    "yn = input(\"Would you like to install package dependencies? (y/n)\")\n",
    "\n",
    "if yn == \"y\":\n",
    "    print(\"Installing dependencies\")\n",
    "    !pip3 install pandas\n",
    "    !pip3 install numpy\n",
    "    !pip3 install scikit-learn\n",
    "else:\n",
    "    print(\"Moving on\")"
   ]
  },
  {
   "cell_type": "code",
   "execution_count": 2,
   "metadata": {},
   "outputs": [
    {
     "name": "stdout",
     "output_type": "stream",
     "text": [
      "Importing packages\n"
     ]
    },
    {
     "name": "stderr",
     "output_type": "stream",
     "text": [
      "/usr/lib/python3/dist-packages/scipy/__init__.py:146: UserWarning: A NumPy version >=1.17.3 and <1.25.0 is required for this version of SciPy (detected version 1.25.2\n",
      "  warnings.warn(f\"A NumPy version >={np_minversion} and <{np_maxversion}\"\n"
     ]
    }
   ],
   "source": [
    "print(\"Importing packages\")\n",
    "import pandas as pd\n",
    "import numpy as np\n",
    "from sklearn.linear_model import LogisticRegression\n",
    "from sklearn.model_selection import train_test_split\n",
    "from sklearn.metrics import accuracy_score\n",
    "from sklearn.preprocessing import StandardScaler\n",
    "import pdb\n",
    "import pickle  # Import pickle for model saving"
   ]
  },
  {
   "cell_type": "code",
   "execution_count": 3,
   "metadata": {},
   "outputs": [
    {
     "name": "stdout",
     "output_type": "stream",
     "text": [
      "Loading, pre-processing, and splitting data\n"
     ]
    }
   ],
   "source": [
    "print(\"Loading, pre-processing, and splitting data\")\n",
    "\n",
    "# Load the data\n",
    "data_train = pd.read_csv('./train.csv')\n",
    "\n",
    "# Fill missing values for Age with the mean\n",
    "data_train['Age'].fillna(data_train['Age'].mean(), inplace=True)\n",
    "\n",
    "# Encode 'Sex' column\n",
    "data_train['Sex'] = data_train['Sex'].map({'male': 0, 'female': 1})\n",
    "\n",
    "# Select features and target variable\n",
    "X = data_train[['Pclass', 'Sex', 'Age', 'SibSp', 'Parch', 'Fare']]\n",
    "y = data_train['Survived']\n",
    "\n",
    "# Split the data into training and testing sets\n",
    "X_train, X_test, y_train, y_test = train_test_split(X, y, test_size=0.2, random_state=42)"
   ]
  },
  {
   "cell_type": "code",
   "execution_count": 4,
   "metadata": {},
   "outputs": [
    {
     "name": "stdout",
     "output_type": "stream",
     "text": [
      "Training model\n",
      "Training completed\n",
      "Saving model to: logistic_regression_model.pkl\n",
      "Finished saving trained model\n"
     ]
    },
    {
     "name": "stdout",
     "output_type": "stream",
     "text": [
      "0\n",
      "Your character would not have survived :(\n"
     ]
    },
    {
     "name": "stderr",
     "output_type": "stream",
     "text": [
      "/home/dudeamabobby/.local/lib/python3.10/site-packages/sklearn/base.py:464: UserWarning: X does not have valid feature names, but LogisticRegression was fitted with feature names\n",
      "  warnings.warn(\n"
     ]
    }
   ],
   "source": [
    "print(\"Training model\")\n",
    "\n",
    "# Initialize and train the logistic regression model\n",
    "log_reg = LogisticRegression(solver='liblinear')\n",
    "log_reg.fit(X_train, y_train)\n",
    "\n",
    "print(\"Training completed\")\n",
    "\n",
    "save_path = \"logistic_regression_model.pkl\"\n",
    "print(\"Saving model to: \" + save_path)\n",
    "# Save the model to a file using pickle\n",
    "with open(save_path, 'wb') as model_file:\n",
    "    pickle.dump(log_reg, model_file)\n",
    "\n",
    "# Load the model back from the file\n",
    "with open(save_path, 'rb') as model_file:\n",
    "    loaded_model = pickle.load(model_file)\n",
    "\n",
    "print(\"Finished saving trained model\")\n",
    "\n",
    "# pdb.set_trace()\n",
    "\n",
    "# Make predictions on the test set using the loaded model\n",
    "\n",
    "repeat = input(\"Would you like to create a character and see whether you would have survived the Titanic?\")\n",
    "\n",
    "if repeat.lower() == \"y\":\n",
    "    userInput = [int(input(\"What class would your character have been when they lived? (1, 2, 3),\")), \n",
    "                int(input(\"Is your character male (1) or female (0)? \")), \n",
    "                int(input(\"How old is your character?\")),\n",
    "                int(input(\"How many siblings does your character have aboard? \")),\n",
    "                int(input(\"How many parents or children does your character have aboard? \")),\n",
    "                int(input(\"How expensive was your characters ship ticket? \"))]\n",
    "\n",
    "    y_pred = loaded_model.predict([userInput])\n",
    "\n",
    "    if y_pred == 1:\n",
    "        print(y_pred[0])\n",
    "        print(\"Your character would have survived!\")\n",
    "    else:\n",
    "        print(y_pred[0])\n",
    "        print(\"Your character would not have survived :(\")\n"
   ]
  }
 ],
 "metadata": {
  "kernelspec": {
   "display_name": "Python 3",
   "language": "python",
   "name": "python3"
  },
  "language_info": {
   "codemirror_mode": {
    "name": "ipython",
    "version": 3
   },
   "file_extension": ".py",
   "mimetype": "text/x-python",
   "name": "python",
   "nbconvert_exporter": "python",
   "pygments_lexer": "ipython3",
   "version": "3.10.12"
  },
  "orig_nbformat": 4
 },
 "nbformat": 4,
 "nbformat_minor": 2
}
