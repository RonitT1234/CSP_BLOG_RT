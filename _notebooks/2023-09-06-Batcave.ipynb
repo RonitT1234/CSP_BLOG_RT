{
 "cells": [
  {
   "cell_type": "markdown",
   "metadata": {},
   "source": [
    "---\n",
    "comments: true\n",
    "layout: post\n",
    "title: THE BATCAVE\n",
    "description: Final CSP Showcase Project\n",
    "type: tangibles\n",
    "courses: { compsci: {week: 3} }\n",
    "---"
   ]
  },
  {
   "cell_type": "markdown",
   "metadata": {},
   "source": [
    "# BATMAN INVADERS ON GITHUB.IO SITE\n",
    "[![batmaninavders](/images/batmaninvaders.jpg)](https://ronitt1234.github.io/BatmanInvaders/)"
   ]
  }
 ],
 "metadata": {
  "language_info": {
   "name": "python"
  },
  "orig_nbformat": 4
 },
 "nbformat": 4,
 "nbformat_minor": 2
}
