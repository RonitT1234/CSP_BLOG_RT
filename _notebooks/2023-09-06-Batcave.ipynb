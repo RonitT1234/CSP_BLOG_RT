{
 "cells": [
  {
   "cell_type": "markdown",
   "metadata": {},
   "source": [
    "---\n",
    "comments: true\n",
    "layout: post\n",
    "title: THE BATCAVE\n",
    "description: Final CSP Showcase Project by Ronit T and Vance R\n",
    "type: hacks\n",
    "courses: { compsci: {week: 3} }\n",
    "---"
   ]
  },
  {
   "cell_type": "markdown",
   "metadata": {},
   "source": [
    "> ## Project Overview\n",
    "> For our final project we decided to create post about Batman that incoperates everything we've learned so far. This includes character information, statistics using tables, embedded images, a video made by us, and a custom Batman-themed game. (More info see Project Brainstorm)\n",
    "\n",
    "## Python Hack Article\n",
    "- My partner and I used emojize and newspaper3k to prived an article about Batmans wealth!"
   ]
  },
  {
   "cell_type": "code",
   "execution_count": 38,
   "metadata": {},
   "outputs": [
    {
     "name": "stdout",
     "output_type": "stream",
     "text": [
      "Have you ever wondered how Bruce Wayne is able to fund his vigilantism as Batman? 🤔\n"
     ]
    },
    {
     "data": {
      "text/markdown": [
       "Here’s How Rich Batman (Bruce Wayne) Really Is"
      ],
      "text/plain": [
       "<IPython.core.display.Markdown object>"
      ]
     },
     "metadata": {},
     "output_type": "display_data"
    },
    {
     "data": {
      "text/markdown": [
       "Many of the most iconic superheroes created by Marvel and DC come from wealthy backgrounds, or they have built their careers to acquire enormous sums of wealth. Batman has been infamous for his seemingly endless list of resources, money, and connections, but many fans are still eager to know how rich Bruce Wayne really is.\n",
       "\n",
       "Bruce Wayne is currently a millionare. Bruce Wayne initially had a net worth of around $9.2 billion, which rose to a figure between $100 and $200 billion before over $100 billion was stolen by the Joker. It’s believed that Bruce Wayne became a millionaire recently and only became a trillionaire in the Injustice Universe.\n",
       "\n",
       "Although many heroes have had rough origin stories or even poverty-stricken childhoods, Batman had been wealthy long before he gained the name. Stick around to find out everything there is to know about Bruce Wayne’s wealth, including how rich Batman really is as well as where he got his money.\n",
       "\n",
       "How did Bruce Wayne get his wealth?\n",
       "\n",
       "Batman inherited his wealth after the tragic murder of his parents, which took place when Bruce Wayne was only around 8 years old. He went on to inherit Wayne Manor and continue the legacy of Wayne Enterprises, which has roots in 17th-century Gotham and developed into a diversified multinational conglomerate.\n",
       "\n",
       "Many reports state that Wayne Enterprises had a total value of around $31.3 billion (believed to be based on the Batman movies), although many believe the figure is much higher. According to fans, the true value of Wayne Enterprises in modern times is believed to be over $500 billion, with the value of equity being over $300 billion when accounting for inflation.\n",
       "\n",
       "Much like renowned companies in the real world, Wayne Enterprises operates through a number of subsidiaries – including Wayne Aerospace, Wayne Energy, Wayne Construction, Wayne Entertainment, Wayne Foods, and more. Bruce Wayne has been the majority shareholder and chairman of Wayne Enterprises for most of his life, leading to insanely high profits over the years.\n",
       "\n",
       "How rich is Bruce Wayne?\n",
       "\n",
       "The key factor in terms of how much money Bruce Wayne actually has depends on the DC universes and timeline, as these aspects differ along with events, character deaths, and much more. In the main DC comics, Batman is considered a billionaire.\n",
       "\n",
       "Bruce Wayne had a reported wealth of around $9.2 billion (believed to be based on the movies). Still, some fans believe this could have reached figures over $160 billion with a higher calculated worth of Wayne Enterprises in the comics.\n",
       "\n",
       "It’s believed that Bruce Wayne would have had a net worth of between $100 and $200 billion for the majority of his career (which would put him in the same league as Elon Musk and Jeff Bezos in the real world). Having no superpowers, Bruce Wayne used much of this wealth to support his work as Batman.\n",
       "\n",
       "How much does it cost Bruce Wayne to be Batman?\n",
       "\n",
       "Batman would have needed approximately $682,450,750 in order to take on the role, including all of the payments needed for repairs as well as his gadgets and tech. Below is a quick estimated overview of how much money it cost Bruce Wayne to be Batman, thanks to Comic Historian Thaddeus Howze.\n",
       "\n",
       "Batman’s Bulletproof Cape and Cowls: $1,058,600\n",
       "\n",
       "The Tumbler Batmobile: $18,000,000\n",
       "\n",
       "The Batpod Motorcycle: $1,500,000\n",
       "\n",
       "Batman’s Flying Vehicle: $60,000,000\n",
       "\n",
       "Batman’s Utility Belt Gadgets (bat-shaped shuriken, smoke grenades, and gizmos): $400,000\n",
       "\n",
       "Training Fees: $1,750,000\n",
       "\n",
       "Wayne Manor Maintenance: $600,000,000\n",
       "\n",
       "Alfred’s Annual Salary: $240,000\n",
       "\n",
       "How Batman lost his money\n",
       "\n",
       "Bruce Wayne would spend millions on damages following Damian Wayne’s training sessions each week. However, this changed with more recent releases (spoilers alert), such as The Dark Knight Rises releases in 2012, which showed Batman lose a fortune due to a Gotham Stock Exchange heist by Bane.\n",
       "\n",
       "While Batman was able to keep Wayne Manor after this event, he lost most of his wealth with the release of Batman Vol. 3 # 93 in 2020. This issue shows the Joker successfully draining all of Batman’s accounts to prevent him from funding his crime-fighting resources.\n",
       "\n",
       "The issue went on to state that the Joker had obtained over $100 billion from Batman’s bank accounts – which would leave Bruce Wayne with an unknown sum of wealth. Even though the Joker was caught, the government informed Batman that it was virtually impossible to bankroll whatever he may need for his Batman activities without shedding light on Bruce Wayne.\n",
       "\n",
       "Bruce was also removed from the Wayne Enterprises board and was given a “generous” annual stipend to stay away from the company. Batman Vol. 3 #119 followed up on these events, showing that Batman had to give up the Batcave, Wayne Manor, funding the Bat Family, and his Batman Inc. team, performing Batmobile maintenance himself.\n",
       "\n",
       "However, Batman always seems to have something up his sleeve and is prepared for just about any scenario. Most fans expect that he still has a sizeable sum of money elsewhere in addition to his annual stipend, and Bruce Wayne likely has a net worth in the millions nowadays.\n",
       "\n",
       "Is Batman a trillionaire?\n",
       "\n",
       "Batman started off as a millionaire and became a billionaire over time, although he never became a trillionaire in the main storyline. Bruce Wayne only became a trillionaire in the Injustice Universe after inheriting Lex Luthor’s wealth, companies, properties, stocks, and more after he was killed by Superman – which amounted to Bruce Wayne’s net worth reaching around $5 trillion.\n",
       "\n",
       "For more information on how Batman became a trillionaire, check out the video below by NeedleMouse Productions.\n",
       "\n",
       "Who is richer: Iron Man or Batman?\n",
       "\n",
       "If we assume that Bruce Wayne only has a net worth of approximately $9.2 billion or less, it would make Iron Man wealthier – as Tony Stark has a reported net worth of $12.4 billion thanks to Stark Industries. Bruce Wayne would have only been richer than Tony Stark in the time he had over $100 billion in wealth or in the Injustice Universe.\n",
       "\n",
       "That’s everything there is to know about how rich Bruce Wayne really is, with stats thanks to News Nation. While Batman may have started his journey with tons of funds and availabilities, he is not as rich in modern times – that being said, Batman is still incredibly wealthy when compared to many Marvel and DC superheroes.\n",
       "\n",
       "What do you think about how rich Batman is? Let us know in the comments below!"
      ],
      "text/plain": [
       "<IPython.core.display.Markdown object>"
      ]
     },
     "metadata": {},
     "output_type": "display_data"
    },
    {
     "name": "stdout",
     "output_type": "stream",
     "text": [
      "\n",
      "\n"
     ]
    }
   ],
   "source": [
    "from emoji import emojize\n",
    "print(emojize(\"Have you ever wondered how Bruce Wayne is able to fund his vigilantism as Batman? :thinking_face:\"))\n",
    "\n",
    "from newspaper import Article\n",
    "from IPython.display import display, Markdown\n",
    "\n",
    "\n",
    "urls = [\"https://www.comicbasics.com/heres-how-rich-batman-bruce-wayne-really-is/#:~:text=In%20the%20main%20DC%20comics,be%20based%20on%20the%20movies).\"]\n",
    "\n",
    "for url in urls:\n",
    "    article = Article(url)\n",
    "    article.download()\n",
    "    article.parse()\n",
    "    # Jupyter Notebook Display\n",
    "    # print(article.title)\n",
    "    display(Markdown(article.title)) # Jupyter display only\n",
    "    display(Markdown(article.text)) # Jupyter display only\n",
    "    print(\"\\n\")\n"
   ]
  },
  {
   "cell_type": "markdown",
   "metadata": {},
   "source": [
    "# Bat - Family/ Allies\n",
    "\n",
    "\n",
    "| Ally       | Real Name | Age     |\n",
    "| :---        |    :----:   |          ---: |\n",
    "| Robin      | Jason Todd      | 14   |\n",
    "| Alfred | Alfred Pennyworth | 60 |\n",
    "| Nightwing | Dick Grayson | 22 |\n",
    "| Batgirl | Barbara Gordon | 20 |\n",
    "| Red Hood | Jason Todd | 24 |\n",
    "| Oracle | Barbara Gordon | 26 |\n",
    "| Catwoman | Selina Kyle | 30 |\n",
    "| Red Robin | Tim Drake | 18 |\n",
    "| Huntress | Helena Bertinelli | 25 |\n",
    "| Batwoman | Kate Kane | 27 |\n",
    "| Lucius Fox | Lucius Fox | 55 |"
   ]
  },
  {
   "cell_type": "markdown",
   "metadata": {},
   "source": [
    "# VILLIAN DATABASE\n",
    "\n",
    "<!-- Head contains information to Support the Document -->\n",
    "<head>\n",
    "    <!-- load jQuery and DataTables output style and scripts -->\n",
    "    <link rel=\"stylesheet\" type=\"text/css\" href=\"https://cdn.datatables.net/1.13.4/css/jquery.dataTables.min.css\">\n",
    "    <script type=\"text/javascript\" language=\"javascript\" src=\"https://code.jquery.com/jquery-3.6.0.min.js\"></script>\n",
    "    <script>var define = null;</script>\n",
    "    <script type=\"text/javascript\" language=\"javascript\" src=\"https://cdn.datatables.net/1.13.4/js/jquery.dataTables.min.js\"></script>\n",
    "</head>\n",
    "\n",
    "<!-- Body contains the contents of the Document -->\n",
    "<body>\n",
    "    <table id=\"demo\" class=\"table\">\n",
    "        <thead>\n",
    "            <tr>\n",
    "                <th>Villian</th>\n",
    "                <th>Age</th>\n",
    "                <th>Crime</th>\n",
    "                <th>Jail Time</th>\n",
    "                <th>Date Captured</th>\n",
    "            </tr>\n",
    "        </thead>\n",
    "        <tbody>\n",
    "            <tr>\n",
    "                <td>Joker</td>\n",
    "                <td>unknown</td>\n",
    "                <td>Posioning Water</td>\n",
    "                <td>40 years</td>\n",
    "                <td>9/2/2023</td>\n",
    "            </tr>\n",
    "            <tr>\n",
    "                <td>Lebron</td>\n",
    "                <td>41</td>\n",
    "                <td>Losing Playoffs</td>\n",
    "                <td>3 years</td>\n",
    "                <td>3/2/2023</td>\n",
    "            </tr>\n",
    "            <tr>\n",
    "                <td>Bane</td>\n",
    "                <td>24</td>\n",
    "                <td>Crashing Plane</td>\n",
    "                <td>13 years</td>\n",
    "                <td>9/5/2023</td>\n",
    "            </tr>\n",
    "            <tr>\n",
    "                <td>Mr. Freeze</td>\n",
    "                <td>54</td>\n",
    "                <td>Freezing City</td>\n",
    "                <td>23 years</td>\n",
    "                <td>7/2/2023</td>\n",
    "            </tr>\n",
    "            <tr>\n",
    "                <td>The Joker</td>\n",
    "                <td>40</td>\n",
    "                <td>Being Mean</td>\n",
    "                <td>Life imprisonment</td>\n",
    "                <td>5/15/2022</td>\n",
    "            </tr>\n",
    "            <tr>\n",
    "                <td>Catwoman</td>\n",
    "                <td>32</td>\n",
    "                <td>Robbing Mueseum</td>\n",
    "                <td>Probation</td>\n",
    "                <td>9/8/2021</td>\n",
    "            </tr>\n",
    "            <tr>\n",
    "                <td>The Riddler</td>\n",
    "                <td>45</td>\n",
    "                <td>Kidnapping a Goose</td>\n",
    "                <td>10 years</td>\n",
    "                <td>11/20/2020</td>\n",
    "            </tr>\n",
    "            <tr>\n",
    "                <td>Penguin</td>\n",
    "                <td>55</td>\n",
    "                <td>Gotham City</td>\n",
    "                <td>15 years</td>\n",
    "                <td>3/7/2019</td>\n",
    "            </tr>\n",
    "        </tbody>\n",
    "    </table>\n",
    "</body>\n",
    "\n",
    "<!-- Script is used to embed executable code -->\n",
    "<script>\n",
    "    $(\"#demo\").DataTable();\n",
    "</script>"
   ]
  },
  {
   "cell_type": "markdown",
   "metadata": {},
   "source": [
    "\n",
    "\n",
    "# BATMAN INVADERS ON GITHUB.IO SITE\n",
    "[![Batman Game](../../../../images/batmaninvaders.jpg 'BATMAN GAME')](https://ronitt1234.github.io/BatmanInvaders/)"
   ]
  },
  {
   "cell_type": "markdown",
   "metadata": {},
   "source": [
    "# Batman Python Games"
   ]
  },
  {
   "cell_type": "code",
   "execution_count": 17,
   "metadata": {},
   "outputs": [
    {
     "name": "stdout",
     "output_type": "stream",
     "text": [
      "👍\n",
      "Guess the Batman Villian. You only have 3 lives. Use them carefully.\n",
      "I have green hair and am very evil.\n"
     ]
    },
    {
     "name": "stdout",
     "output_type": "stream",
     "text": [
      "👎 WRONG! You only have 2 lives remaining. HURRY!\n",
      "I was once the villian of a batman game\n",
      "👍 🦇 Good Job Batman! You guessed it correctly!\n"
     ]
    }
   ],
   "source": [
    "import random\n",
    "from emoji import emojize \n",
    "\n",
    "\n",
    "print(emojize(\":thumbs_up:\"))\n",
    "def question(item, clue1, clue2, clue3):\n",
    "    lives = 3\n",
    "    print(f\"Guess the Batman Villian. You only have {lives} lives. Use them carefully.\")\n",
    "    hints = [clue1, clue2, clue3]\n",
    "    random.shuffle(hints)\n",
    "\n",
    "    for hint in hints:\n",
    "        print(hint)\n",
    "        guess = input(\"Your guess is: \").lower()\n",
    "\n",
    "        if guess == item.lower():\n",
    "            print(emojize(\":thumbs_up: :bat: Good Job Batman! You guessed it correctly!\"))\n",
    "            break\n",
    "        else:\n",
    "            lives -= 1\n",
    "            if lives == 0:\n",
    "                print(emojize(f\":thumbs_down: You have failed Gotham city. The correct answer was '{item}'.\"))\n",
    "                break\n",
    "            else:\n",
    "                print(emojize(f\":thumbs_down: WRONG! You only have {lives} lives remaining. HURRY!\"))\n",
    "    \n",
    "# Example usage:\n",
    "question(\"Joker\", \"I am a really famous villian.\", \"I was once the villian of a batman game\", \"I have green hair and am very evil.\")"
   ]
  },
  {
   "cell_type": "code",
   "execution_count": 5,
   "metadata": {},
   "outputs": [
    {
     "name": "stdout",
     "output_type": "stream",
     "text": [
      "Bat-tastic Ronit\n",
      "Bat-tasticVance\n",
      "Bat-tastic Ronit\n",
      "Sorry Vance, You're not looking like Batman\n",
      "Bat-tastic Ronit\n",
      "Sorry Vance, You're not looking like Batman\n",
      "3\n",
      "1\n",
      "Ronitis BATMAN and Vance is Alfred....\n",
      "Ronit and Vance are BatMEN\n"
     ]
    }
   ],
   "source": [
    "\n",
    "\n",
    "playerone_score=0\n",
    "playertwo_score=0\n",
    "\n",
    "\n",
    "\n",
    "player_one=input(\"What is your name Player 1?\")\n",
    "player_two=input(\"What is your name Player 2?\")\n",
    "\n",
    "def question(question, answer):\n",
    "\n",
    "    global playerone_score\n",
    "    global playertwo_score\n",
    "    \n",
    "    response = input(player_one + \",\" + question)\n",
    "    if response == answer:\n",
    "        print(\"Bat-tastic \" + player_one)\n",
    "        playerone_score+=1\n",
    "    else:\n",
    "        print(\"Sorry \" + player_one + \", You're not looking like Batman\")\n",
    "            \n",
    "            \n",
    "    response = input(player_two + \",\" + question)\n",
    "    if response == answer:\n",
    "        print(\"Bat-tastic\" + player_two)\n",
    "        playertwo_score+=1\n",
    "\n",
    "    else:\n",
    "        print(\"Sorry \" + player_two + \", You're not looking like Batman\")\n",
    "\n",
    "\n",
    "\n",
    "question(\"What is Batman's real name\", \"Bruce Wayne\")\n",
    "question(\"What city does batman live in?\", \"Gotham\")\n",
    "question(\"How old am I \", \"34\")\n",
    "\n",
    "\n",
    "print(playerone_score)\n",
    "print(playertwo_score)\n",
    "\n",
    "if playerone_score > playertwo_score:\n",
    "    print(player_one + \"is BATMAN and \" + player_two +\" is Alfred....\")\n",
    "if playerone_score < playertwo_score:\n",
    "    print(player_two + \"is BATMAN and \" + player_one +\"is Alfred....\")\n",
    "else: \n",
    "    print(player_one + \" and \" + player_two + \" are BatMEN\")\n",
    "    "
   ]
  },
  {
   "cell_type": "markdown",
   "metadata": {},
   "source": [
    "# ChatGPT Code Review\n",
    "\n",
    "[![CHATGPT REVIEW](../../../../images/chatgpt.png 'CHATGPT REVIEW')]\n",
    "\n",
    "# ChatGPT Review Code"
   ]
  },
  {
   "cell_type": "code",
   "execution_count": 20,
   "metadata": {},
   "outputs": [
    {
     "name": "stdout",
     "output_type": "stream",
     "text": [
      "Guess the Batman Villain. You have 3 lives. Use them carefully.\n",
      "I have green hair and am very evil.\n",
      "👎 WRONG! You have 2 lives remaining. Try again.\n",
      "I was once the villain of a Batman game.\n",
      "👍 🦇 Good job Batman! You guessed it correctly!\n"
     ]
    }
   ],
   "source": [
    "import random\n",
    "from emoji import emojize\n",
    "\n",
    "def question(item, clues):\n",
    "    lives = 3\n",
    "    print(f\"Guess the Batman Villain. You have {lives} lives. Use them carefully.\")\n",
    "    random.shuffle(clues)\n",
    "\n",
    "    for hint in clues:\n",
    "        print(hint)\n",
    "        guess = input(\"Your guess is: \").strip().lower()\n",
    "\n",
    "        if guess == item.lower():\n",
    "            print(emojize(\":thumbs_up: :bat: Good job Batman! You guessed it correctly!\"))\n",
    "            break\n",
    "        else:\n",
    "            lives -= 1\n",
    "            if lives == 0:\n",
    "                print(emojize(f\":thumbs_down: You have failed Gotham city. The correct answer was '{item}'.\"))\n",
    "                break\n",
    "            else:\n",
    "                print(emojize(f\":thumbs_down: WRONG! You have {lives} lives remaining. Try again.\"))\n",
    "\n",
    "# Example usage:\n",
    "clues = [\n",
    "    \"I am a really famous villain.\",\n",
    "    \"I was once the villain of a Batman game.\",\n",
    "    \"I have green hair and am very evil.\"\n",
    "]\n",
    "\n",
    "question(\"Joker\", clues)"
   ]
  },
  {
   "cell_type": "markdown",
   "metadata": {},
   "source": [
    "# Linux Interaction (Bash Script)"
   ]
  },
  {
   "cell_type": "code",
   "execution_count": null,
   "metadata": {},
   "outputs": [],
   "source": [
    "%%script bash\n",
    "\n",
    "cd .. # changes directroy to parent directory (goes back one /)\n",
    "pwd #prints what directory you are in\n",
    "\n",
    "echo \"Lets make a new directory for Bamtan\"\n",
    "\n",
    "cd /home/ronit\n",
    "sudo rm Batman #removes old batman directory so code can be re-run\n",
    "mkdir Batman\n",
    "\n",
    "ls #lists all the sub directorys\n",
    "\n",
    "echo \"Now we see the Batman Directory, lets go inside\"\n",
    "\n",
    "cd Batman \n",
    "ls \n",
    "echo \"Now that we are in lets make a new file\"\n",
    "\n",
    "touch Batman_Secret.txt #Creates New file\n",
    "\n",
    "cat Batman_Secret.txt #Edits New File"
   ]
  },
  {
   "cell_type": "markdown",
   "metadata": {},
   "source": [
    "# Python Hack Article"
   ]
  }
 ],
 "metadata": {
  "kernelspec": {
   "display_name": "Python 3",
   "language": "python",
   "name": "python3"
  },
  "language_info": {
   "codemirror_mode": {
    "name": "ipython",
    "version": 3
   },
   "file_extension": ".py",
   "mimetype": "text/x-python",
   "name": "python",
   "nbconvert_exporter": "python",
   "pygments_lexer": "ipython3",
   "version": "3.10.12"
  },
  "orig_nbformat": 4
 },
 "nbformat": 4,
 "nbformat_minor": 2
}
