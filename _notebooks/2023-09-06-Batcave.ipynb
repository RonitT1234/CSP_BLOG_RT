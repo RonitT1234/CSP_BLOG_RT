{
 "cells": [
  {
   "cell_type": "markdown",
   "metadata": {},
   "source": [
    "---\n",
    "comments: true\n",
    "layout: post\n",
    "title: THE BATCAVE\n",
    "description: Final CSP Showcase Project by Ronit Thomas\n",
    "type: hacks\n",
    "courses: { compsci: {week: 3} }\n",
    "---"
   ]
  },
  {
   "cell_type": "markdown",
   "metadata": {},
   "source": [
    "\n",
    "\n",
    "# BATMAN INVADERS ON GITHUB.IO SITE\n",
    "[![batmaninvaders](./)\n",
    "\n",
    "<img src=\"https://files.slack.com/files-tmb/TUDAF53UJ-F05RBLQEFHA-40f3014215/roadtextue_720.png\">\n"
   ]
  },
  {
   "cell_type": "markdown",
   "metadata": {},
   "source": [
    "# Bat-Technology\n",
    "\n",
    "| Vechile/Equipment      | Value | Quantity     |\n",
    "| :---        |    :----:   |          ---: |\n",
    "| Batarang      | $100.000       | 500,000,102   |\n",
    "| Bamobile   | $900.000.000.000        | 2     |"
   ]
  },
  {
   "cell_type": "markdown",
   "metadata": {},
   "source": [
    "# VILLIAN DATABASE\n",
    "\n",
    "<!-- Head contains information to Support the Document -->\n",
    "<head>\n",
    "    <!-- load jQuery and DataTables output style and scripts -->\n",
    "    <link rel=\"stylesheet\" type=\"text/css\" href=\"https://cdn.datatables.net/1.13.4/css/jquery.dataTables.min.css\">\n",
    "    <script type=\"text/javascript\" language=\"javascript\" src=\"https://code.jquery.com/jquery-3.6.0.min.js\"></script>\n",
    "    <script>var define = null;</script>\n",
    "    <script type=\"text/javascript\" language=\"javascript\" src=\"https://cdn.datatables.net/1.13.4/js/jquery.dataTables.min.js\"></script>\n",
    "</head>\n",
    "\n",
    "<!-- Body contains the contents of the Document -->\n",
    "<body>\n",
    "    <table id=\"demo\" class=\"table\">\n",
    "        <thead>\n",
    "            <tr>\n",
    "                <th>Villian</th>\n",
    "                <th>Age</th>\n",
    "                <th>Crime</th>\n",
    "                <th>Jail Time</th>\n",
    "                <th>Date Captured</th>\n",
    "            </tr>\n",
    "        </thead>\n",
    "        <tbody>\n",
    "            <tr>\n",
    "                <td>Joker</td>\n",
    "                <td>unknown</td>\n",
    "                <td>Posioning Water</td>\n",
    "                <td>40 years</td>\n",
    "                <td>9/2/2023</td>\n",
    "            </tr>\n",
    "            <tr>\n",
    "                <td>Lebron</td>\n",
    "                <td>41</td>\n",
    "                <td>Losing Playoffs</td>\n",
    "                <td>3 years</td>\n",
    "                <td>3/2/2023</td>\n",
    "            </tr>\n",
    "            <tr>\n",
    "                <td>Bane</td>\n",
    "                <td>24</td>\n",
    "                <td>Crashing Plane</td>\n",
    "                <td>13 years</td>\n",
    "                <td>9/5/2023</td>\n",
    "            </tr>\n",
    "            <tr>\n",
    "                <td>Mr. Freeze</td>\n",
    "                <td>54</td>\n",
    "                <td>Freezing City</td>\n",
    "                <td>23 years</td>\n",
    "                <td>7/2/2023</td>\n",
    "            </tr>\n",
    "        </tbody>\n",
    "    </table>\n",
    "</body>\n",
    "\n",
    "<!-- Script is used to embed executable code -->\n",
    "<script>\n",
    "    $(\"#demo\").DataTable();\n",
    "</script>"
   ]
  },
  {
   "cell_type": "markdown",
   "metadata": {},
   "source": [
    "# Feedback \n",
    "\n",
    "- [ ] Add game directly into website\n",
    "- [x] Plan out which one of us is going to say what part of our presentation\n",
    "- [ ] Split up Linux Shell and Python Work\n",
    "\n",
    "\n",
    "# Batman Python Games"
   ]
  },
  {
   "cell_type": "code",
   "execution_count": 16,
   "metadata": {},
   "outputs": [
    {
     "name": "stdout",
     "output_type": "stream",
     "text": [
      "👍\n",
      "Guess the Batman Villian. You only have 3 lives. Use them carefully.\n",
      "I was once the villian of a batman game\n",
      "👎 WRONG! You only have 2 lives remaining. HURRY!\n",
      "I have green hair and am very evil.\n",
      "👍 🦇 Good Job Batman! You guessed it correctly!\n"
     ]
    }
   ],
   "source": [
    "import random\n",
    "from emoji import emojize \n",
    "\n",
    "\n",
    "print(emojize(\":thumbs_up:\"))\n",
    "def question(item, clue1, clue2, clue3):\n",
    "    lives = 3\n",
    "    print(f\"Guess the Batman Villian. You only have {lives} lives. Use them carefully.\")\n",
    "    hints = [clue1, clue2, clue3]\n",
    "    random.shuffle(hints)\n",
    "\n",
    "    for hint in hints:\n",
    "        print(hint)\n",
    "        guess = input(\"Your guess is: \").lower()\n",
    "\n",
    "        if guess == item.lower():\n",
    "            print(emojize(\":thumbs_up: :bat: Good Job Batman! You guessed it correctly!\"))\n",
    "            break\n",
    "        else:\n",
    "            lives -= 1\n",
    "            if lives == 0:\n",
    "                print(emojize(f\":thumbs_down: You have failed Gotham city. The correct answer was '{item}'.\"))\n",
    "                break\n",
    "            else:\n",
    "                print(emojize(f\":thumbs_down: WRONG! You only have {lives} lives remaining. HURRY!\"))\n",
    "    \n",
    "# Example usage:\n",
    "question(\"Joker\", \"I am a really famous villian.\", \"I was once the villian of a batman game\", \"I have green hair and am very evil.\")"
   ]
  },
  {
   "cell_type": "code",
   "execution_count": 5,
   "metadata": {},
   "outputs": [
    {
     "name": "stdout",
     "output_type": "stream",
     "text": [
      "Bat-tastic Ronit\n",
      "Bat-tasticVance\n",
      "Bat-tastic Ronit\n",
      "Sorry Vance, You're not looking like Batman\n",
      "Bat-tastic Ronit\n",
      "Sorry Vance, You're not looking like Batman\n",
      "3\n",
      "1\n",
      "Ronitis BATMAN and Vance is Alfred....\n",
      "Ronit and Vance are BatMEN\n"
     ]
    }
   ],
   "source": [
    "\n",
    "\n",
    "playerone_score=0\n",
    "playertwo_score=0\n",
    "\n",
    "\n",
    "\n",
    "player_one=input(\"What is your name Player 1?\")\n",
    "player_two=input(\"What is your name Player 2?\")\n",
    "\n",
    "def question(question, answer):\n",
    "\n",
    "    global playerone_score\n",
    "    global playertwo_score\n",
    "    \n",
    "    response = input(player_one + \",\" + question)\n",
    "    if response == answer:\n",
    "        print(\"Bat-tastic \" + player_one)\n",
    "        playerone_score+=1\n",
    "    else:\n",
    "        print(\"Sorry \" + player_one + \", You're not looking like Batman\")\n",
    "            \n",
    "            \n",
    "    response = input(player_two + \",\" + question)\n",
    "    if response == answer:\n",
    "        print(\"Bat-tastic\" + player_two)\n",
    "        playertwo_score+=1\n",
    "\n",
    "    else:\n",
    "        print(\"Sorry \" + player_two + \", You're not looking like Batman\")\n",
    "\n",
    "\n",
    "\n",
    "question(\"What is Batman's real name\", \"Bruce Wayne\")\n",
    "question(\"What city does batman live in?\", \"Gotham\")\n",
    "question(\"What city does batman live in?\", \"Gotham\")\n",
    "\n",
    "\n",
    "print(playerone_score)\n",
    "print(playertwo_score)\n",
    "\n",
    "if playerone_score > playertwo_score:\n",
    "    print(player_one + \"is BATMAN and \" + player_two +\" is Alfred....\")\n",
    "if playerone_score < playertwo_score:\n",
    "    print(player_two + \"is BATMAN and \" + player_one +\"is Alfred....\")\n",
    "else: \n",
    "    print(player_one + \" and \" + player_two + \" are BatMEN\")\n",
    "    "
   ]
  },
  {
   "cell_type": "markdown",
   "metadata": {},
   "source": [
    "# Challenges Faced\n",
    "\n",
    "# Overalll Thoughts"
   ]
  }
 ],
 "metadata": {
  "kernelspec": {
   "display_name": "Python 3",
   "language": "python",
   "name": "python3"
  },
  "language_info": {
   "codemirror_mode": {
    "name": "ipython",
    "version": 3
   },
   "file_extension": ".py",
   "mimetype": "text/x-python",
   "name": "python",
   "nbconvert_exporter": "python",
   "pygments_lexer": "ipython3",
   "version": "3.10.12"
  },
  "orig_nbformat": 4
 },
 "nbformat": 4,
 "nbformat_minor": 2
}
