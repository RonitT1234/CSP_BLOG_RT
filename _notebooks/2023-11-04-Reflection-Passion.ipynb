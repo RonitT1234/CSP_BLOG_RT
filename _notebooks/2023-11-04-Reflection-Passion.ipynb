{
 "cells": [
  {
   "cell_type": "markdown",
   "metadata": {},
   "source": [
    "---\n",
    "toc: true\n",
    "comments: false\n",
    "layout: post\n",
    "title: REFLECTION Passion Project\n",
    "description: My review of Our Passion project\n",
    "courses: { compsci: {week: 8} }\n",
    "type: tangibles\n",
    "---"
   ]
  },
  {
   "cell_type": "markdown",
   "metadata": {},
   "source": [
    "- AGILE\n",
    "    - Everyone working independtly but also together\n",
    "    - Everyone making commits and changes\n",
    "    - I can build off other people's code and they can build off mine\n",
    "    - Very useful for completing long-term projects effeciently in a group.\n",
    "\n",
    "- Project Timeline\n",
    "    - Plan\n",
    "    - Design\n",
    "    - Frontend Repo and Backend Repo Created\n",
    "    - Rough Frontend Created while Backend API is created\n",
    "    - Backend Localhost Test/Commit Backend Design\n",
    "    - Deploy Backend to AWS and finalize Frontend Design\n",
    "    - Connect Backend to Frontend \n",
    "    - Repeat steps and troubleshoot!\n",
    "\n",
    "- TroubleShooting\n",
    "    - Always test locally before commiting final changes to Github Repo \n",
    "    - Use debugging when involving code cells\n",
    "    - Always add comments to the code cells to make sure you understand the code that is being displayed\n",
    "\n"
   ]
  }
 ],
 "metadata": {
  "language_info": {
   "name": "python"
  }
 },
 "nbformat": 4,
 "nbformat_minor": 2
}
