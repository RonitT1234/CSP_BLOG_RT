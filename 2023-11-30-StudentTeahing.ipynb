{
 "cells": [
  {
   "cell_type": "markdown",
   "metadata": {},
   "source": [
    "---\n",
    "comments: true\n",
    "layout: notebook\n",
    "title: Team Teaching - Fault Tolerance & Parallel and Distributed Computing\n",
    "description: College Board 4.2 & 4.3 - Fault Tolerance & Parallel and Distributed Computing\n",
    "type: tangibles\n",
    "author: Ryan, Aaron, Jason\n",
    "post-image: https://i.ibb.co/s31xQ0X/bd602332-f843-4614-8ec9-61d80bc43d86.png\n",
    "courses: { csp: {week: 13} }\n",
    "categories: [C4.1]\n",
    "tags:\n",
    "- Team Teach\n",
    "- Fault Tolerance\n",
    "- Parallel & Distributed Computing\n",
    "---"
   ]
  },
  {
   "cell_type": "markdown",
   "metadata": {},
   "source": [
    "## **Fault Tolerance**\n",
    "\n",
    "### Fault Tolerance: The ability of a system to continue to operate properly and without interruption if one or more of its components were to fail. \n",
    "\n",
    "There are a few factors you need to confirm to decide if a system is fault tolerant or not. Think of each device/point as a pool, and the lines as pipes. \n",
    "\n",
    "- If you were to pour water into any pool, can the other pools access the water? \n",
    "(can data be accessed from all points?)\n",
    "\n",
    "- If one pipe were to be cut, can the other pools still access the water? \n",
    "(If a path fails, can data be accessed from all points?)\n",
    "\n",
    "- If one pool is removed, can the other pools still access water from eachother? \n",
    "(If one device fails, can the other points receive data?)\n",
    "\n",
    "If to answer to all of these are \"Yes,\" then the system is Fault Tolerant. \n",
    "\n",
    ">> Redundancy: Fault Tolerant networks typically have extra components and pathways to ensure reliability, making them have redundancy. \n",
    "\n",
    ">> \"Essential Knowledges\" from College Board\n",
    "\n",
    "- The Internet has been engineered to be fault-tolerant, with abstractions for routing and transmitting data.  \n",
    "\n",
    "- Redundancy is the inclusion of extra components that can be used to mitigate failure of a system if other components fail.  \n",
    "\n",
    "- One way to accomplish network redunadancy is by having more than one path between any to connected devices.\n",
    "\n",
    "- If a particular device or connection on the Internet fails, subsequent data will be sent via a different route if it's possible to reach that.\n",
    "\n",
    "- Redundancy within a system often requires additional resources but can provide the benefit of fault tolerance.\n",
    "\n",
    "- The redundancy of routing options between 2 points increases the reliability of the Internet and helps it scale to the more devices and more people.\n"
   ]
  },
  {
   "cell_type": "markdown",
   "metadata": {},
   "source": [
    "### Examples:\n",
    "\n",
    "![image-2.png](https://i.ibb.co/KmFLv42/2023-12-03-174918.png)\n",
    "\n",
    "- The network above **is not fault tolerant** because if one path stops working, data cannot be accessed by further devices. \n",
    "\n",
    "![image.png](https://i.ibb.co/DQrQBmH/2023-12-03-175037.png)\n",
    "\n",
    "- The network above **is fault tolerant** since if one path stops working, you are still able to communicate with all the other devices on the network.\n",
    "\n",
    "![image-3.png](https://i.ibb.co/rfWSBJR/2023-12-03-175118.png)\n",
    "\n",
    "- The network above **is also fault tolerant** due to the same reasons as the previous example. The network is much more redundant, meaning it is more Fault Tolerant. However, it will require more resources. more components = more expensive."
   ]
  },
  {
   "cell_type": "markdown",
   "metadata": {},
   "source": [
    "## **Popcorn Hack #1** (True or False)\n",
    "\n",
    "![image.png](https://i.ibb.co/f8Q84bG/2023-12-03-175201.png)\n",
    "\n",
    "- Identify if the network above is Fault Tolerant or not, and why.\n"
   ]
  },
  {
   "cell_type": "markdown",
   "metadata": {},
   "source": [
    "Answer here:\n"
   ]
  },
  {
   "cell_type": "markdown",
   "metadata": {},
   "source": []
  },
  {
   "cell_type": "markdown",
   "metadata": {},
   "source": [
    "### What are the benefits of having a Fault Tolerant Network?\n",
    "- Data has more than one path to travel from one device to another.\n",
    "\n",
    "- If part of the network fails, the network can still function by using other paths.\n",
    "\n",
    "- More devices creates more connections and makes the network stronger.\n",
    "\n",
    "![ferferf](https://kariera.future-processing.pl//wp-content/uploads/2018/12/distributed_system.png)"
   ]
  },
  {
   "cell_type": "markdown",
   "metadata": {},
   "source": [
    "## **Popcorn Hack #2** (Multiple Choice)\n",
    "\n",
    "![image.png](https://i.ibb.co/FxXdKrQ/2023-12-03-175238.png)\n",
    "\n",
    " Is this network above Fault Tolerant? If not, what changes can you make that can make this a fault tolerant network? \n",
    "\n",
    "    - A: connection from *A ---> B*\n",
    "    - B: connection from *B ---> D*\n",
    "    - C: connection from *E ---> F*\n",
    "    - D: connection from *B ---> C*\n"
   ]
  },
  {
   "cell_type": "markdown",
   "metadata": {},
   "source": [
    "Answer here: "
   ]
  },
  {
   "cell_type": "markdown",
   "metadata": {},
   "source": [
    "# Parallel and Distributed Computing\n",
    "\n",
    "#### Computer Tasks: All of the tasks that are operated on the computer has to be handled by the computer. These tasks are scheduled by the operating system.\n",
    "\n",
    "- System tasks: Tasks that are done for the operating system, such as managing hardware, network configuration, file management, and security tasks. \n",
    "\n",
    "- User tasks: Tasks that the user themself has selected, such as running a search engine, opening a video game, and running MS paint. \n",
    "\n",
    "Because computers have many tasks to manage, they need to balance the tasks so all CPUs are being utilized evenly and fully. \n",
    "\n",
    "### Sequential Computing: Tasks are done one after the other; operations are performed one at a time.\n",
    "\n",
    "- Not efficient. A computer would use sequential computing if its hardware is limited, or if the tasks requested are dependent on eachother.\n",
    "\n",
    "- Useful because it requires less resources and is easier to manage, and has a lower chance of error compared to parallel computing. \n",
    "\n",
    "- Takes long for computer to execute all tasks. If Task X takes 30 ms, Y takes 40 ms, and Z 20 ms, and the order executed is X-Y-Z, then the total processing time is 90 ms. \n",
    "\n",
    "### Parallel Computing: tasks are done simultaneously.\n",
    "\n",
    "![image.png](https://hpc.llnl.gov/sites/default/files/styles/with_sidebar_1_up/public/parallelProblem.gif?itok=u4OKbOB5)\n",
    "\n",
    "- Hardware Driven: newer hardwares have several processers in one system called cores. One CPU can have 64+ cores. This speeds up the processing time greatly. \n",
    "\n",
    "- Faster Operations: links CPUs together to work the same problem.\n",
    "\n",
    "- Data Driven: Data can be processed the same way called Single Instruction Multiple Data. \n",
    "\n",
    "- Processing time is the longest time taken for the procressors. Example Core 1 takes 50 ms, Core 2 100 ms, Core 3 10 ms, total time taken  is 100 ms. This is why parallel processing works best when tasks are independent from eachother.\n",
    "\n",
    ">> Speedup Time: The speedup of a parallel solution is measured in the time it takes to complete the task sequentially divided by the time it takes to complete the task in parallel. Example Sequential time is 120 ms, parallel time is 60 ms, speedup time is 2 ms \n",
    "\n",
    "### Distributed Computing: sending of tasks from one computer to another; multiple devices are used to run a program. Requires a network.\n",
    "\n",
    "![image.png](https://images.spiceworks.com/wp-content/uploads/2022/01/12132236/Distributed-System.png)\n",
    "\n",
    "- Can mix sequential and parallel computing, based on how it sends out tasks to other computers to work.\n",
    "\n",
    "- Allows problems to be solved that aren't possible on a single computer due to storage limitations and processing time.\n",
    "\n",
    "For example, when you search something up on google, Google sends the request to thousands of servers in the backround for your answers. \n",
    "\n",
    ">> Web Services: Standards on how computers can ask for tast execution over the web, including protocols\n",
    "\n",
    ">> Beowolf Clusters: special software grouping different computers together \n",
    "\n",
    "\n",
    ">> Essential Knowledges from College Board:\n",
    "\n",
    "- Sequential computing is a computational model in which operations are performed in order one at a time.\n",
    "\n",
    "- Parallel computing is a computational moder where the program is broken into multiple smaller sequential computing operations, some of which are performed simultaneously. \n",
    "\n",
    "- Distributed computing is a computational model in which multiple devices are used to run a program.\n",
    "\n",
    "- Comparing efficiency of solutions can be done by comparing the time it takes them to perform the same task.\n",
    "\n",
    "- A sequential solution takes as longas the sum of all its steps.\n",
    "\n",
    "- A parallel computing solution takes as long as its sequential tasks plus the longest of its parallel tasks. \n",
    "\n",
    "- The \"speedup\" of a parallel solution is measured in the time it took to complete the task sequentially divided by the time it took to complete the task when done in parallel. \n",
    "\n",
    "- Parallel computing consists of a parallel portion and a sequential portion. \n",
    "\n",
    "- Solutions that use parallel computing can scale more effectively than solutions that use sequential computing.\n",
    "\n",
    "- Distributed computing allows problems to be sovled that ould not be solved in a single computer because of either the processing time or the stroage needs involved.\n",
    "\n",
    "- Distributed computing allows much larger problems to be solved quicker than they could be solved using a single computer. \n",
    "\n",
    "-  When increasing the use of parallel computing in a solution, the efficiency of the solution is still limited by the sequential portion. This means that at some point, adding parallel portions will no longer meaningfully increase efficiency. "
   ]
  },
  {
   "cell_type": "markdown",
   "metadata": {},
   "source": [
    "## **Popcorn Hack #3** \n",
    "\n",
    "Explain the difference between Sequential, Parallel, and Distributive computing in 1-2 sentences. Try to not look at answers above, and put it in your own words. \n"
   ]
  },
  {
   "cell_type": "markdown",
   "metadata": {},
   "source": [
    "# HOMEWORK\n",
    "\n",
    "## Fault Tolerance: \n",
    "Make two data flowcharts like the examples above, you can use MS paint, canva, any design website. Make one Fault Tolerant and one not fault tolerant, and explain what needs to be changed to the flowchart in order to make the network fault tolerant. Doing these will get you over a .90:\n",
    "- Neat design, easy to understand\n",
    "- real network examples; don't label each point as A-B-C etc. \n",
    "\n",
    "## Parallel and Distributed Computing: \n",
    "- First make a simple code that runs sequentially, for example loops ten times before stopping.\n",
    "- Then make code that completes the same job quicker by running parallel. \n"
   ]
  }
 ],
 "metadata": {
  "kernelspec": {
   "display_name": "Python 3",
   "language": "python",
   "name": "python3"
  },
  "language_info": {
   "name": "python",
   "version": "3.10.12"
  },
  "orig_nbformat": 4
 },
 "nbformat": 4,
 "nbformat_minor": 2
}
